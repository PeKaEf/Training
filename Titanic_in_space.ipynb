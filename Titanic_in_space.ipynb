{
 "cells": [
  {
   "cell_type": "code",
   "execution_count": 1,
   "id": "d88436fc-2d3f-4eb4-bb25-db4ef3adacf9",
   "metadata": {},
   "outputs": [
    {
     "name": "stdout",
     "output_type": "stream",
     "text": [
      "<class 'pandas.core.frame.DataFrame'>\n",
      "RangeIndex: 8693 entries, 0 to 8692\n",
      "Data columns (total 14 columns):\n",
      " #   Column        Non-Null Count  Dtype  \n",
      "---  ------        --------------  -----  \n",
      " 0   PassengerId   8693 non-null   object \n",
      " 1   HomePlanet    8492 non-null   object \n",
      " 2   CryoSleep     8476 non-null   object \n",
      " 3   Cabin         8494 non-null   object \n",
      " 4   Destination   8511 non-null   object \n",
      " 5   Age           8514 non-null   float64\n",
      " 6   VIP           8490 non-null   object \n",
      " 7   RoomService   8512 non-null   float64\n",
      " 8   FoodCourt     8510 non-null   float64\n",
      " 9   ShoppingMall  8485 non-null   float64\n",
      " 10  Spa           8510 non-null   float64\n",
      " 11  VRDeck        8505 non-null   float64\n",
      " 12  Name          8493 non-null   object \n",
      " 13  Transported   8693 non-null   bool   \n",
      "dtypes: bool(1), float64(6), object(7)\n",
      "memory usage: 891.5+ KB\n"
     ]
    },
    {
     "data": {
      "text/html": [
       "<div>\n",
       "<style scoped>\n",
       "    .dataframe tbody tr th:only-of-type {\n",
       "        vertical-align: middle;\n",
       "    }\n",
       "\n",
       "    .dataframe tbody tr th {\n",
       "        vertical-align: top;\n",
       "    }\n",
       "\n",
       "    .dataframe thead th {\n",
       "        text-align: right;\n",
       "    }\n",
       "</style>\n",
       "<table border=\"1\" class=\"dataframe\">\n",
       "  <thead>\n",
       "    <tr style=\"text-align: right;\">\n",
       "      <th></th>\n",
       "      <th>PassengerId</th>\n",
       "      <th>HomePlanet</th>\n",
       "      <th>CryoSleep</th>\n",
       "      <th>Cabin</th>\n",
       "      <th>Destination</th>\n",
       "      <th>Age</th>\n",
       "      <th>VIP</th>\n",
       "      <th>RoomService</th>\n",
       "      <th>FoodCourt</th>\n",
       "      <th>ShoppingMall</th>\n",
       "      <th>Spa</th>\n",
       "      <th>VRDeck</th>\n",
       "      <th>Name</th>\n",
       "      <th>Transported</th>\n",
       "    </tr>\n",
       "  </thead>\n",
       "  <tbody>\n",
       "    <tr>\n",
       "      <th>count</th>\n",
       "      <td>8693</td>\n",
       "      <td>8492</td>\n",
       "      <td>8476</td>\n",
       "      <td>8494</td>\n",
       "      <td>8511</td>\n",
       "      <td>8514.000000</td>\n",
       "      <td>8490</td>\n",
       "      <td>8512.000000</td>\n",
       "      <td>8510.000000</td>\n",
       "      <td>8485.000000</td>\n",
       "      <td>8510.000000</td>\n",
       "      <td>8505.000000</td>\n",
       "      <td>8493</td>\n",
       "      <td>8693</td>\n",
       "    </tr>\n",
       "    <tr>\n",
       "      <th>unique</th>\n",
       "      <td>8693</td>\n",
       "      <td>3</td>\n",
       "      <td>2</td>\n",
       "      <td>6560</td>\n",
       "      <td>3</td>\n",
       "      <td>NaN</td>\n",
       "      <td>2</td>\n",
       "      <td>NaN</td>\n",
       "      <td>NaN</td>\n",
       "      <td>NaN</td>\n",
       "      <td>NaN</td>\n",
       "      <td>NaN</td>\n",
       "      <td>8473</td>\n",
       "      <td>2</td>\n",
       "    </tr>\n",
       "    <tr>\n",
       "      <th>top</th>\n",
       "      <td>0001_01</td>\n",
       "      <td>Earth</td>\n",
       "      <td>False</td>\n",
       "      <td>G/734/S</td>\n",
       "      <td>TRAPPIST-1e</td>\n",
       "      <td>NaN</td>\n",
       "      <td>False</td>\n",
       "      <td>NaN</td>\n",
       "      <td>NaN</td>\n",
       "      <td>NaN</td>\n",
       "      <td>NaN</td>\n",
       "      <td>NaN</td>\n",
       "      <td>Gollux Reedall</td>\n",
       "      <td>True</td>\n",
       "    </tr>\n",
       "    <tr>\n",
       "      <th>freq</th>\n",
       "      <td>1</td>\n",
       "      <td>4602</td>\n",
       "      <td>5439</td>\n",
       "      <td>8</td>\n",
       "      <td>5915</td>\n",
       "      <td>NaN</td>\n",
       "      <td>8291</td>\n",
       "      <td>NaN</td>\n",
       "      <td>NaN</td>\n",
       "      <td>NaN</td>\n",
       "      <td>NaN</td>\n",
       "      <td>NaN</td>\n",
       "      <td>2</td>\n",
       "      <td>4378</td>\n",
       "    </tr>\n",
       "    <tr>\n",
       "      <th>mean</th>\n",
       "      <td>NaN</td>\n",
       "      <td>NaN</td>\n",
       "      <td>NaN</td>\n",
       "      <td>NaN</td>\n",
       "      <td>NaN</td>\n",
       "      <td>28.827930</td>\n",
       "      <td>NaN</td>\n",
       "      <td>224.687617</td>\n",
       "      <td>458.077203</td>\n",
       "      <td>173.729169</td>\n",
       "      <td>311.138778</td>\n",
       "      <td>304.854791</td>\n",
       "      <td>NaN</td>\n",
       "      <td>NaN</td>\n",
       "    </tr>\n",
       "    <tr>\n",
       "      <th>std</th>\n",
       "      <td>NaN</td>\n",
       "      <td>NaN</td>\n",
       "      <td>NaN</td>\n",
       "      <td>NaN</td>\n",
       "      <td>NaN</td>\n",
       "      <td>14.489021</td>\n",
       "      <td>NaN</td>\n",
       "      <td>666.717663</td>\n",
       "      <td>1611.489240</td>\n",
       "      <td>604.696458</td>\n",
       "      <td>1136.705535</td>\n",
       "      <td>1145.717189</td>\n",
       "      <td>NaN</td>\n",
       "      <td>NaN</td>\n",
       "    </tr>\n",
       "    <tr>\n",
       "      <th>min</th>\n",
       "      <td>NaN</td>\n",
       "      <td>NaN</td>\n",
       "      <td>NaN</td>\n",
       "      <td>NaN</td>\n",
       "      <td>NaN</td>\n",
       "      <td>0.000000</td>\n",
       "      <td>NaN</td>\n",
       "      <td>0.000000</td>\n",
       "      <td>0.000000</td>\n",
       "      <td>0.000000</td>\n",
       "      <td>0.000000</td>\n",
       "      <td>0.000000</td>\n",
       "      <td>NaN</td>\n",
       "      <td>NaN</td>\n",
       "    </tr>\n",
       "    <tr>\n",
       "      <th>25%</th>\n",
       "      <td>NaN</td>\n",
       "      <td>NaN</td>\n",
       "      <td>NaN</td>\n",
       "      <td>NaN</td>\n",
       "      <td>NaN</td>\n",
       "      <td>19.000000</td>\n",
       "      <td>NaN</td>\n",
       "      <td>0.000000</td>\n",
       "      <td>0.000000</td>\n",
       "      <td>0.000000</td>\n",
       "      <td>0.000000</td>\n",
       "      <td>0.000000</td>\n",
       "      <td>NaN</td>\n",
       "      <td>NaN</td>\n",
       "    </tr>\n",
       "    <tr>\n",
       "      <th>50%</th>\n",
       "      <td>NaN</td>\n",
       "      <td>NaN</td>\n",
       "      <td>NaN</td>\n",
       "      <td>NaN</td>\n",
       "      <td>NaN</td>\n",
       "      <td>27.000000</td>\n",
       "      <td>NaN</td>\n",
       "      <td>0.000000</td>\n",
       "      <td>0.000000</td>\n",
       "      <td>0.000000</td>\n",
       "      <td>0.000000</td>\n",
       "      <td>0.000000</td>\n",
       "      <td>NaN</td>\n",
       "      <td>NaN</td>\n",
       "    </tr>\n",
       "    <tr>\n",
       "      <th>75%</th>\n",
       "      <td>NaN</td>\n",
       "      <td>NaN</td>\n",
       "      <td>NaN</td>\n",
       "      <td>NaN</td>\n",
       "      <td>NaN</td>\n",
       "      <td>38.000000</td>\n",
       "      <td>NaN</td>\n",
       "      <td>47.000000</td>\n",
       "      <td>76.000000</td>\n",
       "      <td>27.000000</td>\n",
       "      <td>59.000000</td>\n",
       "      <td>46.000000</td>\n",
       "      <td>NaN</td>\n",
       "      <td>NaN</td>\n",
       "    </tr>\n",
       "    <tr>\n",
       "      <th>max</th>\n",
       "      <td>NaN</td>\n",
       "      <td>NaN</td>\n",
       "      <td>NaN</td>\n",
       "      <td>NaN</td>\n",
       "      <td>NaN</td>\n",
       "      <td>79.000000</td>\n",
       "      <td>NaN</td>\n",
       "      <td>14327.000000</td>\n",
       "      <td>29813.000000</td>\n",
       "      <td>23492.000000</td>\n",
       "      <td>22408.000000</td>\n",
       "      <td>24133.000000</td>\n",
       "      <td>NaN</td>\n",
       "      <td>NaN</td>\n",
       "    </tr>\n",
       "  </tbody>\n",
       "</table>\n",
       "</div>"
      ],
      "text/plain": [
       "       PassengerId HomePlanet CryoSleep    Cabin  Destination          Age  \\\n",
       "count         8693       8492      8476     8494         8511  8514.000000   \n",
       "unique        8693          3         2     6560            3          NaN   \n",
       "top        0001_01      Earth     False  G/734/S  TRAPPIST-1e          NaN   \n",
       "freq             1       4602      5439        8         5915          NaN   \n",
       "mean           NaN        NaN       NaN      NaN          NaN    28.827930   \n",
       "std            NaN        NaN       NaN      NaN          NaN    14.489021   \n",
       "min            NaN        NaN       NaN      NaN          NaN     0.000000   \n",
       "25%            NaN        NaN       NaN      NaN          NaN    19.000000   \n",
       "50%            NaN        NaN       NaN      NaN          NaN    27.000000   \n",
       "75%            NaN        NaN       NaN      NaN          NaN    38.000000   \n",
       "max            NaN        NaN       NaN      NaN          NaN    79.000000   \n",
       "\n",
       "          VIP   RoomService     FoodCourt  ShoppingMall           Spa  \\\n",
       "count    8490   8512.000000   8510.000000   8485.000000   8510.000000   \n",
       "unique      2           NaN           NaN           NaN           NaN   \n",
       "top     False           NaN           NaN           NaN           NaN   \n",
       "freq     8291           NaN           NaN           NaN           NaN   \n",
       "mean      NaN    224.687617    458.077203    173.729169    311.138778   \n",
       "std       NaN    666.717663   1611.489240    604.696458   1136.705535   \n",
       "min       NaN      0.000000      0.000000      0.000000      0.000000   \n",
       "25%       NaN      0.000000      0.000000      0.000000      0.000000   \n",
       "50%       NaN      0.000000      0.000000      0.000000      0.000000   \n",
       "75%       NaN     47.000000     76.000000     27.000000     59.000000   \n",
       "max       NaN  14327.000000  29813.000000  23492.000000  22408.000000   \n",
       "\n",
       "              VRDeck            Name Transported  \n",
       "count    8505.000000            8493        8693  \n",
       "unique           NaN            8473           2  \n",
       "top              NaN  Gollux Reedall        True  \n",
       "freq             NaN               2        4378  \n",
       "mean      304.854791             NaN         NaN  \n",
       "std      1145.717189             NaN         NaN  \n",
       "min         0.000000             NaN         NaN  \n",
       "25%         0.000000             NaN         NaN  \n",
       "50%         0.000000             NaN         NaN  \n",
       "75%        46.000000             NaN         NaN  \n",
       "max     24133.000000             NaN         NaN  "
      ]
     },
     "execution_count": 1,
     "metadata": {},
     "output_type": "execute_result"
    }
   ],
   "source": [
    "import pandas as pd\n",
    "\n",
    "import sklearn\n",
    "\n",
    "import seaborn as sns\n",
    "\n",
    "import matplotlib.pyplot as plt\n",
    "\n",
    "import numpy as np\n",
    "\n",
    "#import data\n",
    "\n",
    "train_df = pd.read_csv(\"C:/Users/pfali/Downloads/Space_Titanic/train.csv\")\n",
    "test_df = pd.read_csv(\"C:/Users/pfali/Downloads/Space_Titanic/test.csv\")\n",
    "combine = [train_df, test_df]\n",
    "\n",
    "#preview data head\n",
    "\n",
    "train_df.head()\n",
    "\n",
    "#preview data type\n",
    "\n",
    "train_df.info()\n",
    "\n",
    "#preview info on numerical features\n",
    "\n",
    "train_df.describe(include='all')\n"
   ]
  },
  {
   "cell_type": "code",
   "execution_count": 2,
   "id": "8d681f12-4e2d-410b-8253-baded0bbfcde",
   "metadata": {},
   "outputs": [
    {
     "data": {
      "text/plain": [
       "PassengerId       0\n",
       "HomePlanet      201\n",
       "CryoSleep       217\n",
       "Cabin           199\n",
       "Destination     182\n",
       "Age             179\n",
       "VIP             203\n",
       "RoomService     181\n",
       "FoodCourt       183\n",
       "ShoppingMall    208\n",
       "Spa             183\n",
       "VRDeck          188\n",
       "Name            200\n",
       "Transported       0\n",
       "dtype: int64"
      ]
     },
     "execution_count": 2,
     "metadata": {},
     "output_type": "execute_result"
    }
   ],
   "source": [
    "#checking which features contain nulls\n",
    "\n",
    "train_df.isnull().sum()"
   ]
  },
  {
   "cell_type": "code",
   "execution_count": 3,
   "id": "67457da3-df32-4090-a2d1-0ed0a36c8f02",
   "metadata": {},
   "outputs": [
    {
     "data": {
      "text/plain": [
       "PassengerId       0\n",
       "HomePlanet       87\n",
       "CryoSleep        93\n",
       "Cabin           100\n",
       "Destination      92\n",
       "Age              91\n",
       "VIP              93\n",
       "RoomService      82\n",
       "FoodCourt       106\n",
       "ShoppingMall     98\n",
       "Spa             101\n",
       "VRDeck           80\n",
       "Name             94\n",
       "dtype: int64"
      ]
     },
     "execution_count": 3,
     "metadata": {},
     "output_type": "execute_result"
    }
   ],
   "source": [
    "#checking which features contain nulls\n",
    "\n",
    "test_df.isnull().sum()"
   ]
  },
  {
   "cell_type": "code",
   "execution_count": 4,
   "id": "e4b9196e-4397-49d1-9932-ed41383191ac",
   "metadata": {},
   "outputs": [
    {
     "data": {
      "text/plain": [
       "PassengerId       0\n",
       "HomePlanet        0\n",
       "CryoSleep         0\n",
       "Cabin           100\n",
       "Destination       0\n",
       "Age               0\n",
       "VIP               0\n",
       "RoomService      82\n",
       "FoodCourt       106\n",
       "ShoppingMall     98\n",
       "Spa             101\n",
       "VRDeck           80\n",
       "Name             94\n",
       "dtype: int64"
      ]
     },
     "execution_count": 4,
     "metadata": {},
     "output_type": "execute_result"
    }
   ],
   "source": [
    "#completing Age, HomePlanet, CryoSleep, Destination, VIP\n",
    "\n",
    "train_df['Age'].fillna(train_df['Age'].median(),inplace=True)\n",
    "train_df['HomePlanet'].fillna(train_df['HomePlanet'].mode()[0],inplace=True)\n",
    "train_df['CryoSleep'].fillna(train_df['CryoSleep'].mode()[0],inplace=True)\n",
    "train_df['Destination'].fillna(train_df['Destination'].mode()[0],inplace=True)\n",
    "train_df['VIP'].fillna(train_df['VIP'].mode()[0],inplace=True)\n",
    "\n",
    "test_df['Age'].fillna(test_df['Age'].median(),inplace=True)\n",
    "test_df['HomePlanet'].fillna(test_df['HomePlanet'].mode()[0],inplace=True)\n",
    "test_df['CryoSleep'].fillna(test_df['CryoSleep'].mode()[0],inplace=True)\n",
    "test_df['Destination'].fillna(test_df['Destination'].mode()[0],inplace=True)\n",
    "test_df['VIP'].fillna(test_df['VIP'].mode()[0],inplace=True)\n",
    "\n",
    "test_df.isnull().sum()"
   ]
  },
  {
   "cell_type": "code",
   "execution_count": 5,
   "id": "f795d559-3132-4bdd-a822-02d4109a606f",
   "metadata": {},
   "outputs": [
    {
     "data": {
      "text/html": [
       "<div>\n",
       "<style scoped>\n",
       "    .dataframe tbody tr th:only-of-type {\n",
       "        vertical-align: middle;\n",
       "    }\n",
       "\n",
       "    .dataframe tbody tr th {\n",
       "        vertical-align: top;\n",
       "    }\n",
       "\n",
       "    .dataframe thead th {\n",
       "        text-align: right;\n",
       "    }\n",
       "</style>\n",
       "<table border=\"1\" class=\"dataframe\">\n",
       "  <thead>\n",
       "    <tr style=\"text-align: right;\">\n",
       "      <th></th>\n",
       "      <th>PassengerId</th>\n",
       "      <th>HomePlanet</th>\n",
       "      <th>CryoSleep</th>\n",
       "      <th>Cabin</th>\n",
       "      <th>Destination</th>\n",
       "      <th>Age</th>\n",
       "      <th>VIP</th>\n",
       "      <th>RoomService</th>\n",
       "      <th>FoodCourt</th>\n",
       "      <th>ShoppingMall</th>\n",
       "      <th>Spa</th>\n",
       "      <th>VRDeck</th>\n",
       "      <th>Name</th>\n",
       "      <th>Transported</th>\n",
       "    </tr>\n",
       "  </thead>\n",
       "  <tbody>\n",
       "    <tr>\n",
       "      <th>0</th>\n",
       "      <td>0001_01</td>\n",
       "      <td>1</td>\n",
       "      <td>0</td>\n",
       "      <td>B/0/P</td>\n",
       "      <td>2</td>\n",
       "      <td>39.0</td>\n",
       "      <td>0</td>\n",
       "      <td>0.0</td>\n",
       "      <td>0.0</td>\n",
       "      <td>0.0</td>\n",
       "      <td>0.0</td>\n",
       "      <td>0.0</td>\n",
       "      <td>Maham Ofracculy</td>\n",
       "      <td>0</td>\n",
       "    </tr>\n",
       "    <tr>\n",
       "      <th>1</th>\n",
       "      <td>0002_01</td>\n",
       "      <td>0</td>\n",
       "      <td>0</td>\n",
       "      <td>F/0/S</td>\n",
       "      <td>2</td>\n",
       "      <td>24.0</td>\n",
       "      <td>0</td>\n",
       "      <td>109.0</td>\n",
       "      <td>9.0</td>\n",
       "      <td>25.0</td>\n",
       "      <td>549.0</td>\n",
       "      <td>44.0</td>\n",
       "      <td>Juanna Vines</td>\n",
       "      <td>1</td>\n",
       "    </tr>\n",
       "    <tr>\n",
       "      <th>2</th>\n",
       "      <td>0003_01</td>\n",
       "      <td>1</td>\n",
       "      <td>0</td>\n",
       "      <td>A/0/S</td>\n",
       "      <td>2</td>\n",
       "      <td>58.0</td>\n",
       "      <td>1</td>\n",
       "      <td>43.0</td>\n",
       "      <td>3576.0</td>\n",
       "      <td>0.0</td>\n",
       "      <td>6715.0</td>\n",
       "      <td>49.0</td>\n",
       "      <td>Altark Susent</td>\n",
       "      <td>0</td>\n",
       "    </tr>\n",
       "    <tr>\n",
       "      <th>3</th>\n",
       "      <td>0003_02</td>\n",
       "      <td>1</td>\n",
       "      <td>0</td>\n",
       "      <td>A/0/S</td>\n",
       "      <td>2</td>\n",
       "      <td>33.0</td>\n",
       "      <td>0</td>\n",
       "      <td>0.0</td>\n",
       "      <td>1283.0</td>\n",
       "      <td>371.0</td>\n",
       "      <td>3329.0</td>\n",
       "      <td>193.0</td>\n",
       "      <td>Solam Susent</td>\n",
       "      <td>0</td>\n",
       "    </tr>\n",
       "    <tr>\n",
       "      <th>4</th>\n",
       "      <td>0004_01</td>\n",
       "      <td>0</td>\n",
       "      <td>0</td>\n",
       "      <td>F/1/S</td>\n",
       "      <td>2</td>\n",
       "      <td>16.0</td>\n",
       "      <td>0</td>\n",
       "      <td>303.0</td>\n",
       "      <td>70.0</td>\n",
       "      <td>151.0</td>\n",
       "      <td>565.0</td>\n",
       "      <td>2.0</td>\n",
       "      <td>Willy Santantines</td>\n",
       "      <td>1</td>\n",
       "    </tr>\n",
       "    <tr>\n",
       "      <th>5</th>\n",
       "      <td>0005_01</td>\n",
       "      <td>0</td>\n",
       "      <td>0</td>\n",
       "      <td>F/0/P</td>\n",
       "      <td>1</td>\n",
       "      <td>44.0</td>\n",
       "      <td>0</td>\n",
       "      <td>0.0</td>\n",
       "      <td>483.0</td>\n",
       "      <td>0.0</td>\n",
       "      <td>291.0</td>\n",
       "      <td>0.0</td>\n",
       "      <td>Sandie Hinetthews</td>\n",
       "      <td>1</td>\n",
       "    </tr>\n",
       "    <tr>\n",
       "      <th>6</th>\n",
       "      <td>0006_01</td>\n",
       "      <td>0</td>\n",
       "      <td>0</td>\n",
       "      <td>F/2/S</td>\n",
       "      <td>2</td>\n",
       "      <td>26.0</td>\n",
       "      <td>0</td>\n",
       "      <td>42.0</td>\n",
       "      <td>1539.0</td>\n",
       "      <td>3.0</td>\n",
       "      <td>0.0</td>\n",
       "      <td>0.0</td>\n",
       "      <td>Billex Jacostaffey</td>\n",
       "      <td>1</td>\n",
       "    </tr>\n",
       "    <tr>\n",
       "      <th>7</th>\n",
       "      <td>0006_02</td>\n",
       "      <td>0</td>\n",
       "      <td>1</td>\n",
       "      <td>G/0/S</td>\n",
       "      <td>2</td>\n",
       "      <td>28.0</td>\n",
       "      <td>0</td>\n",
       "      <td>0.0</td>\n",
       "      <td>0.0</td>\n",
       "      <td>0.0</td>\n",
       "      <td>0.0</td>\n",
       "      <td>NaN</td>\n",
       "      <td>Candra Jacostaffey</td>\n",
       "      <td>1</td>\n",
       "    </tr>\n",
       "    <tr>\n",
       "      <th>8</th>\n",
       "      <td>0007_01</td>\n",
       "      <td>0</td>\n",
       "      <td>0</td>\n",
       "      <td>F/3/S</td>\n",
       "      <td>2</td>\n",
       "      <td>35.0</td>\n",
       "      <td>0</td>\n",
       "      <td>0.0</td>\n",
       "      <td>785.0</td>\n",
       "      <td>17.0</td>\n",
       "      <td>216.0</td>\n",
       "      <td>0.0</td>\n",
       "      <td>Andona Beston</td>\n",
       "      <td>1</td>\n",
       "    </tr>\n",
       "    <tr>\n",
       "      <th>9</th>\n",
       "      <td>0008_01</td>\n",
       "      <td>1</td>\n",
       "      <td>1</td>\n",
       "      <td>B/1/P</td>\n",
       "      <td>0</td>\n",
       "      <td>14.0</td>\n",
       "      <td>0</td>\n",
       "      <td>0.0</td>\n",
       "      <td>0.0</td>\n",
       "      <td>0.0</td>\n",
       "      <td>0.0</td>\n",
       "      <td>0.0</td>\n",
       "      <td>Erraiam Flatic</td>\n",
       "      <td>1</td>\n",
       "    </tr>\n",
       "    <tr>\n",
       "      <th>10</th>\n",
       "      <td>0008_02</td>\n",
       "      <td>1</td>\n",
       "      <td>1</td>\n",
       "      <td>B/1/P</td>\n",
       "      <td>2</td>\n",
       "      <td>34.0</td>\n",
       "      <td>0</td>\n",
       "      <td>0.0</td>\n",
       "      <td>0.0</td>\n",
       "      <td>NaN</td>\n",
       "      <td>0.0</td>\n",
       "      <td>0.0</td>\n",
       "      <td>Altardr Flatic</td>\n",
       "      <td>1</td>\n",
       "    </tr>\n",
       "    <tr>\n",
       "      <th>11</th>\n",
       "      <td>0008_03</td>\n",
       "      <td>1</td>\n",
       "      <td>0</td>\n",
       "      <td>B/1/P</td>\n",
       "      <td>0</td>\n",
       "      <td>45.0</td>\n",
       "      <td>0</td>\n",
       "      <td>39.0</td>\n",
       "      <td>7295.0</td>\n",
       "      <td>589.0</td>\n",
       "      <td>110.0</td>\n",
       "      <td>124.0</td>\n",
       "      <td>Wezena Flatic</td>\n",
       "      <td>1</td>\n",
       "    </tr>\n",
       "    <tr>\n",
       "      <th>12</th>\n",
       "      <td>0009_01</td>\n",
       "      <td>2</td>\n",
       "      <td>0</td>\n",
       "      <td>F/1/P</td>\n",
       "      <td>2</td>\n",
       "      <td>32.0</td>\n",
       "      <td>0</td>\n",
       "      <td>73.0</td>\n",
       "      <td>0.0</td>\n",
       "      <td>1123.0</td>\n",
       "      <td>0.0</td>\n",
       "      <td>113.0</td>\n",
       "      <td>Berers Barne</td>\n",
       "      <td>1</td>\n",
       "    </tr>\n",
       "    <tr>\n",
       "      <th>13</th>\n",
       "      <td>0010_01</td>\n",
       "      <td>0</td>\n",
       "      <td>0</td>\n",
       "      <td>G/1/S</td>\n",
       "      <td>2</td>\n",
       "      <td>48.0</td>\n",
       "      <td>0</td>\n",
       "      <td>719.0</td>\n",
       "      <td>1.0</td>\n",
       "      <td>65.0</td>\n",
       "      <td>0.0</td>\n",
       "      <td>24.0</td>\n",
       "      <td>Reney Baketton</td>\n",
       "      <td>0</td>\n",
       "    </tr>\n",
       "    <tr>\n",
       "      <th>14</th>\n",
       "      <td>0011_01</td>\n",
       "      <td>0</td>\n",
       "      <td>0</td>\n",
       "      <td>F/2/P</td>\n",
       "      <td>2</td>\n",
       "      <td>28.0</td>\n",
       "      <td>0</td>\n",
       "      <td>8.0</td>\n",
       "      <td>974.0</td>\n",
       "      <td>12.0</td>\n",
       "      <td>2.0</td>\n",
       "      <td>7.0</td>\n",
       "      <td>Elle Bertsontry</td>\n",
       "      <td>1</td>\n",
       "    </tr>\n",
       "  </tbody>\n",
       "</table>\n",
       "</div>"
      ],
      "text/plain": [
       "   PassengerId  HomePlanet  CryoSleep  Cabin  Destination   Age  VIP  \\\n",
       "0      0001_01           1          0  B/0/P            2  39.0    0   \n",
       "1      0002_01           0          0  F/0/S            2  24.0    0   \n",
       "2      0003_01           1          0  A/0/S            2  58.0    1   \n",
       "3      0003_02           1          0  A/0/S            2  33.0    0   \n",
       "4      0004_01           0          0  F/1/S            2  16.0    0   \n",
       "5      0005_01           0          0  F/0/P            1  44.0    0   \n",
       "6      0006_01           0          0  F/2/S            2  26.0    0   \n",
       "7      0006_02           0          1  G/0/S            2  28.0    0   \n",
       "8      0007_01           0          0  F/3/S            2  35.0    0   \n",
       "9      0008_01           1          1  B/1/P            0  14.0    0   \n",
       "10     0008_02           1          1  B/1/P            2  34.0    0   \n",
       "11     0008_03           1          0  B/1/P            0  45.0    0   \n",
       "12     0009_01           2          0  F/1/P            2  32.0    0   \n",
       "13     0010_01           0          0  G/1/S            2  48.0    0   \n",
       "14     0011_01           0          0  F/2/P            2  28.0    0   \n",
       "\n",
       "    RoomService  FoodCourt  ShoppingMall     Spa  VRDeck                Name  \\\n",
       "0           0.0        0.0           0.0     0.0     0.0     Maham Ofracculy   \n",
       "1         109.0        9.0          25.0   549.0    44.0        Juanna Vines   \n",
       "2          43.0     3576.0           0.0  6715.0    49.0       Altark Susent   \n",
       "3           0.0     1283.0         371.0  3329.0   193.0        Solam Susent   \n",
       "4         303.0       70.0         151.0   565.0     2.0   Willy Santantines   \n",
       "5           0.0      483.0           0.0   291.0     0.0   Sandie Hinetthews   \n",
       "6          42.0     1539.0           3.0     0.0     0.0  Billex Jacostaffey   \n",
       "7           0.0        0.0           0.0     0.0     NaN  Candra Jacostaffey   \n",
       "8           0.0      785.0          17.0   216.0     0.0       Andona Beston   \n",
       "9           0.0        0.0           0.0     0.0     0.0      Erraiam Flatic   \n",
       "10          0.0        0.0           NaN     0.0     0.0      Altardr Flatic   \n",
       "11         39.0     7295.0         589.0   110.0   124.0       Wezena Flatic   \n",
       "12         73.0        0.0        1123.0     0.0   113.0        Berers Barne   \n",
       "13        719.0        1.0          65.0     0.0    24.0      Reney Baketton   \n",
       "14          8.0      974.0          12.0     2.0     7.0     Elle Bertsontry   \n",
       "\n",
       "    Transported  \n",
       "0             0  \n",
       "1             1  \n",
       "2             0  \n",
       "3             0  \n",
       "4             1  \n",
       "5             1  \n",
       "6             1  \n",
       "7             1  \n",
       "8             1  \n",
       "9             1  \n",
       "10            1  \n",
       "11            1  \n",
       "12            1  \n",
       "13            0  \n",
       "14            1  "
      ]
     },
     "execution_count": 5,
     "metadata": {},
     "output_type": "execute_result"
    }
   ],
   "source": [
    "#Data type of features – conclusions:\n",
    "#1.\tSeven features are objects: PassengerId, HomePlanet, CryoSleep, Cabin, Destination, VIP, Name.\n",
    "#2.\tFive features are floats: Age, RoomService, FoodCourt, ShoppingMall, Spa, VRDeck.\n",
    "#3.\tThe last feature Transported is also our target.\n",
    "#4.\tObject features: \n",
    "#a.\tPassengerId – this is a unique number and as it is combined with the group passengers travelled with, maybe this feature can be split into these groups.\n",
    "#b.\tHomePlanet – takes three unique values, this can be transformed to numerical feature.\n",
    "#c.\tCryoSleep – this features takes only two values True or False, with False being the top one (… of passengers not in cryosleep).\n",
    "#d.\tCabin – this combines the cabin number, deck and side – possibly to be split into three separate features.\n",
    "#e.\tDestination – takes three unique values, this can be transformed to numerical feature.\n",
    "#f.\tVIP – takes values of True/False, so can be transformed to numerical feature; most of the passengers didn’t have the VIP status.\n",
    "#g.\tName – this is a nominal feature consisting of the first name and the last name. It seems not to carry any weight for our analysis, so probably can be excluded, but one must take also into consideration that maybe the passengers shared the last name so maybe the feature should be split into two. Name is not unique, … are duplicates (…%).\n",
    "#5.\tFloat features – it is also worth considering if RoomService, ShoppingMall, Spa and VRDeck should be left separated or combined, as they refer to the sum of money spent on amenities:\n",
    "#a.\tAge – to be bucketed, as the range of this feature is quite large.\n",
    "#b.\tRoom Service – to be bucketed, as the range of this feature is quite large.\n",
    "#c.\tShoppingMall – to be bucketed, as the range of this feature is quite large.\n",
    "#d.\tSpa – to be bucketed, as the range of this feature is quite large.\n",
    "#e.\tVRDeck – to be bucketed, as the range of this feature is quite large.\n",
    "#f.\tFoodCourt – to be bucketed, as the range of this feature is quite large.\n",
    "\n",
    "#Correcting:\n",
    "#All of the features in train and test datasets (except of the PassengerId and Transported) have null values, which should be completed:\n",
    "#-\tHomePlanet – with mode, as it has only 3 unique values;\n",
    "#-\tCryoSleep – with mode, as it has only 2 unique values;\n",
    "#-\tCabin\n",
    "#-\tDestination – with mode, as it has only 3 unique values;\n",
    "#-\tVIP – with mode, as it has only 2 unique values;\n",
    "#-\tAge – with median\n",
    "#-\tRoomService – with k-nearest neighbours imputer\n",
    "#-\tShoppingMall – with k-nearest neighbours imputer\n",
    "#-\tSpa – with k-nearest neighbours imputer\n",
    "#-\tVRDeck – with k-nearest neighbours imputer\n",
    "#-\tFoodCourt – with k-nearest neighbours imputer\n",
    "\n",
    "#Creating:\n",
    "#1.\tNew features will be created to check if they correlate with the output:\n",
    "#a.\tGroup and Id from PassengerId\n",
    "#b.\tDeck, Number and Side from Cabin\n",
    "\n",
    "\n",
    "#convert VIP, Destination, HomePlanet and CryoSleep and Transported \n",
    "\n",
    "from sklearn import preprocessing\n",
    "\n",
    "labelenc = preprocessing.LabelEncoder()\n",
    "\n",
    "train_df['VIP'] = labelenc.fit_transform(train_df['VIP'])\n",
    "train_df['Destination'] = labelenc.fit_transform(train_df['Destination'])\n",
    "train_df['HomePlanet'] = labelenc.fit_transform(train_df['HomePlanet'])\n",
    "train_df['CryoSleep'] = labelenc.fit_transform(train_df['CryoSleep'])\n",
    "train_df['Transported'] = labelenc.fit_transform(train_df['Transported'])\n",
    "\n",
    "test_df['VIP'] = labelenc.fit_transform(test_df['VIP'])\n",
    "test_df['Destination'] = labelenc.fit_transform(test_df['Destination'])\n",
    "test_df['HomePlanet'] = labelenc.fit_transform(test_df['HomePlanet'])\n",
    "test_df['CryoSleep'] = labelenc.fit_transform(test_df['CryoSleep'])\n",
    "\n",
    "train_df.head(15)\n"
   ]
  },
  {
   "cell_type": "code",
   "execution_count": 7,
   "id": "13d2e7fa-745a-4b55-8a25-8dc416d45660",
   "metadata": {},
   "outputs": [],
   "source": [
    "#completing missing values for RoomService, Spa, VRDeck, FoodCourt, ShoppingMall, Cabin\n",
    "\n",
    "from sklearn.impute import KNNImputer\n",
    "from sklearn.impute import SimpleImputer\n",
    "\n",
    "imputer = KNNImputer(n_neighbors=10)\n",
    "\n",
    "train_df['Spa'] = imputer.fit_transform(train_df[['Spa']]).ravel()\n",
    "train_df['FoodCourt'] = imputer.fit_transform(train_df[['FoodCourt']]).ravel()\n",
    "train_df['VRDeck'] = imputer.fit_transform(train_df[['VRDeck']]).ravel()\n",
    "train_df['ShoppingMall'] = imputer.fit_transform(train_df[['ShoppingMall']]).ravel()\n",
    "train_df['RoomService'] = imputer.fit_transform(train_df[['RoomService']]).ravel()\n",
    "\n",
    "test_df['Spa'] = imputer.fit_transform(test_df[['Spa']]).ravel()\n",
    "test_df['FoodCourt'] = imputer.fit_transform(test_df[['FoodCourt']]).ravel()\n",
    "test_df['VRDeck'] = imputer.fit_transform(test_df[['VRDeck']]).ravel()\n",
    "test_df['ShoppingMall'] = imputer.fit_transform(test_df[['ShoppingMall']]).ravel()\n",
    "test_df['RoomService'] = imputer.fit_transform(test_df[['RoomService']]).ravel()"
   ]
  },
  {
   "cell_type": "code",
   "execution_count": 8,
   "id": "cd9d6a77-9b36-4809-8d26-c1ea68a77465",
   "metadata": {},
   "outputs": [
    {
     "data": {
      "text/html": [
       "<div>\n",
       "<style scoped>\n",
       "    .dataframe tbody tr th:only-of-type {\n",
       "        vertical-align: middle;\n",
       "    }\n",
       "\n",
       "    .dataframe tbody tr th {\n",
       "        vertical-align: top;\n",
       "    }\n",
       "\n",
       "    .dataframe thead th {\n",
       "        text-align: right;\n",
       "    }\n",
       "</style>\n",
       "<table border=\"1\" class=\"dataframe\">\n",
       "  <thead>\n",
       "    <tr style=\"text-align: right;\">\n",
       "      <th></th>\n",
       "      <th>PassengerId</th>\n",
       "      <th>HomePlanet</th>\n",
       "      <th>CryoSleep</th>\n",
       "      <th>Cabin</th>\n",
       "      <th>Destination</th>\n",
       "      <th>Age</th>\n",
       "      <th>VIP</th>\n",
       "      <th>RoomService</th>\n",
       "      <th>FoodCourt</th>\n",
       "      <th>ShoppingMall</th>\n",
       "      <th>Spa</th>\n",
       "      <th>VRDeck</th>\n",
       "      <th>Name</th>\n",
       "      <th>Transported</th>\n",
       "      <th>Group</th>\n",
       "      <th>Id</th>\n",
       "      <th>Deck</th>\n",
       "      <th>Number</th>\n",
       "      <th>Side</th>\n",
       "    </tr>\n",
       "  </thead>\n",
       "  <tbody>\n",
       "    <tr>\n",
       "      <th>0</th>\n",
       "      <td>0001_01</td>\n",
       "      <td>1</td>\n",
       "      <td>0</td>\n",
       "      <td>B/0/P</td>\n",
       "      <td>2</td>\n",
       "      <td>39.0</td>\n",
       "      <td>0</td>\n",
       "      <td>0.0</td>\n",
       "      <td>0.0</td>\n",
       "      <td>0.0</td>\n",
       "      <td>0.0</td>\n",
       "      <td>0.0</td>\n",
       "      <td>Maham Ofracculy</td>\n",
       "      <td>0</td>\n",
       "      <td>01</td>\n",
       "      <td>0001</td>\n",
       "      <td>B</td>\n",
       "      <td>0</td>\n",
       "      <td>P</td>\n",
       "    </tr>\n",
       "    <tr>\n",
       "      <th>1</th>\n",
       "      <td>0002_01</td>\n",
       "      <td>0</td>\n",
       "      <td>0</td>\n",
       "      <td>F/0/S</td>\n",
       "      <td>2</td>\n",
       "      <td>24.0</td>\n",
       "      <td>0</td>\n",
       "      <td>109.0</td>\n",
       "      <td>9.0</td>\n",
       "      <td>25.0</td>\n",
       "      <td>549.0</td>\n",
       "      <td>44.0</td>\n",
       "      <td>Juanna Vines</td>\n",
       "      <td>1</td>\n",
       "      <td>01</td>\n",
       "      <td>0002</td>\n",
       "      <td>F</td>\n",
       "      <td>0</td>\n",
       "      <td>S</td>\n",
       "    </tr>\n",
       "    <tr>\n",
       "      <th>2</th>\n",
       "      <td>0003_01</td>\n",
       "      <td>1</td>\n",
       "      <td>0</td>\n",
       "      <td>A/0/S</td>\n",
       "      <td>2</td>\n",
       "      <td>58.0</td>\n",
       "      <td>1</td>\n",
       "      <td>43.0</td>\n",
       "      <td>3576.0</td>\n",
       "      <td>0.0</td>\n",
       "      <td>6715.0</td>\n",
       "      <td>49.0</td>\n",
       "      <td>Altark Susent</td>\n",
       "      <td>0</td>\n",
       "      <td>01</td>\n",
       "      <td>0003</td>\n",
       "      <td>A</td>\n",
       "      <td>0</td>\n",
       "      <td>S</td>\n",
       "    </tr>\n",
       "    <tr>\n",
       "      <th>3</th>\n",
       "      <td>0003_02</td>\n",
       "      <td>1</td>\n",
       "      <td>0</td>\n",
       "      <td>A/0/S</td>\n",
       "      <td>2</td>\n",
       "      <td>33.0</td>\n",
       "      <td>0</td>\n",
       "      <td>0.0</td>\n",
       "      <td>1283.0</td>\n",
       "      <td>371.0</td>\n",
       "      <td>3329.0</td>\n",
       "      <td>193.0</td>\n",
       "      <td>Solam Susent</td>\n",
       "      <td>0</td>\n",
       "      <td>02</td>\n",
       "      <td>0003</td>\n",
       "      <td>A</td>\n",
       "      <td>0</td>\n",
       "      <td>S</td>\n",
       "    </tr>\n",
       "    <tr>\n",
       "      <th>4</th>\n",
       "      <td>0004_01</td>\n",
       "      <td>0</td>\n",
       "      <td>0</td>\n",
       "      <td>F/1/S</td>\n",
       "      <td>2</td>\n",
       "      <td>16.0</td>\n",
       "      <td>0</td>\n",
       "      <td>303.0</td>\n",
       "      <td>70.0</td>\n",
       "      <td>151.0</td>\n",
       "      <td>565.0</td>\n",
       "      <td>2.0</td>\n",
       "      <td>Willy Santantines</td>\n",
       "      <td>1</td>\n",
       "      <td>01</td>\n",
       "      <td>0004</td>\n",
       "      <td>F</td>\n",
       "      <td>1</td>\n",
       "      <td>S</td>\n",
       "    </tr>\n",
       "  </tbody>\n",
       "</table>\n",
       "</div>"
      ],
      "text/plain": [
       "  PassengerId  HomePlanet  CryoSleep  Cabin  Destination   Age  VIP  \\\n",
       "0     0001_01           1          0  B/0/P            2  39.0    0   \n",
       "1     0002_01           0          0  F/0/S            2  24.0    0   \n",
       "2     0003_01           1          0  A/0/S            2  58.0    1   \n",
       "3     0003_02           1          0  A/0/S            2  33.0    0   \n",
       "4     0004_01           0          0  F/1/S            2  16.0    0   \n",
       "\n",
       "   RoomService  FoodCourt  ShoppingMall     Spa  VRDeck               Name  \\\n",
       "0          0.0        0.0           0.0     0.0     0.0    Maham Ofracculy   \n",
       "1        109.0        9.0          25.0   549.0    44.0       Juanna Vines   \n",
       "2         43.0     3576.0           0.0  6715.0    49.0      Altark Susent   \n",
       "3          0.0     1283.0         371.0  3329.0   193.0       Solam Susent   \n",
       "4        303.0       70.0         151.0   565.0     2.0  Willy Santantines   \n",
       "\n",
       "   Transported Group    Id Deck Number Side  \n",
       "0            0    01  0001    B      0    P  \n",
       "1            1    01  0002    F      0    S  \n",
       "2            0    01  0003    A      0    S  \n",
       "3            0    02  0003    A      0    S  \n",
       "4            1    01  0004    F      1    S  "
      ]
     },
     "execution_count": 8,
     "metadata": {},
     "output_type": "execute_result"
    }
   ],
   "source": [
    "#splitting PassengerId into group and id into Id and Group\n",
    "\n",
    "train_df['Group'] = train_df['PassengerId'].str.split(\"_\",expand=True)[1].str.split(expand=True)\n",
    "train_df['Id'] = train_df['PassengerId'].str.split(\"_\",expand=True)[0].str.split(expand=True)\n",
    "\n",
    "test_df['Group'] = test_df['PassengerId'].str.split(\"_\",expand=True)[1].str.split(expand=True)\n",
    "test_df['Id'] = test_df['PassengerId'].str.split(\"_\",expand=True)[0].str.split(expand=True)\n",
    "\n",
    "#splitting Cabin into Deck, Number, Side\n",
    "train_df['Deck'] = train_df['Cabin'].str.split(\"/\",expand=True)[0].str.split(expand=True)\n",
    "train_df['Number'] = train_df['Cabin'].str.split(\"/\",expand=True)[1].str.split(expand=True)\n",
    "train_df['Side'] = train_df['Cabin'].str.split(\"/\",expand=True)[2].str.split(expand=True)\n",
    "\n",
    "test_df['Deck'] = test_df['Cabin'].str.split(\"/\",expand=True)[0].str.split(expand=True)\n",
    "test_df['Number'] = test_df['Cabin'].str.split(\"/\",expand=True)[1].str.split(expand=True)\n",
    "test_df['Side'] = test_df['Cabin'].str.split(\"/\",expand=True)[2].str.split(expand=True)\n",
    "\n",
    "train_df.head()"
   ]
  },
  {
   "cell_type": "code",
   "execution_count": 9,
   "id": "e8ac516d-05d1-4e83-8c4a-d6d298525c54",
   "metadata": {},
   "outputs": [
    {
     "data": {
      "text/html": [
       "<div>\n",
       "<style scoped>\n",
       "    .dataframe tbody tr th:only-of-type {\n",
       "        vertical-align: middle;\n",
       "    }\n",
       "\n",
       "    .dataframe tbody tr th {\n",
       "        vertical-align: top;\n",
       "    }\n",
       "\n",
       "    .dataframe thead th {\n",
       "        text-align: right;\n",
       "    }\n",
       "</style>\n",
       "<table border=\"1\" class=\"dataframe\">\n",
       "  <thead>\n",
       "    <tr style=\"text-align: right;\">\n",
       "      <th></th>\n",
       "      <th>PassengerId</th>\n",
       "      <th>HomePlanet</th>\n",
       "      <th>CryoSleep</th>\n",
       "      <th>Cabin</th>\n",
       "      <th>Destination</th>\n",
       "      <th>Age</th>\n",
       "      <th>VIP</th>\n",
       "      <th>RoomService</th>\n",
       "      <th>FoodCourt</th>\n",
       "      <th>ShoppingMall</th>\n",
       "      <th>Spa</th>\n",
       "      <th>VRDeck</th>\n",
       "      <th>Name</th>\n",
       "      <th>Transported</th>\n",
       "      <th>Group</th>\n",
       "      <th>Id</th>\n",
       "      <th>Deck</th>\n",
       "      <th>Number</th>\n",
       "      <th>Side</th>\n",
       "    </tr>\n",
       "  </thead>\n",
       "  <tbody>\n",
       "    <tr>\n",
       "      <th>count</th>\n",
       "      <td>8693</td>\n",
       "      <td>8693.000000</td>\n",
       "      <td>8693.000000</td>\n",
       "      <td>8494</td>\n",
       "      <td>8693.000000</td>\n",
       "      <td>8693.000000</td>\n",
       "      <td>8693.000000</td>\n",
       "      <td>8693.000000</td>\n",
       "      <td>8693.000000</td>\n",
       "      <td>8693.000000</td>\n",
       "      <td>8693.000000</td>\n",
       "      <td>8693.000000</td>\n",
       "      <td>8493</td>\n",
       "      <td>8693.000000</td>\n",
       "      <td>8693.000000</td>\n",
       "      <td>8693</td>\n",
       "      <td>8693.000000</td>\n",
       "      <td>8693.000000</td>\n",
       "      <td>8693.000000</td>\n",
       "    </tr>\n",
       "    <tr>\n",
       "      <th>unique</th>\n",
       "      <td>8693</td>\n",
       "      <td>NaN</td>\n",
       "      <td>NaN</td>\n",
       "      <td>6560</td>\n",
       "      <td>NaN</td>\n",
       "      <td>NaN</td>\n",
       "      <td>NaN</td>\n",
       "      <td>NaN</td>\n",
       "      <td>NaN</td>\n",
       "      <td>NaN</td>\n",
       "      <td>NaN</td>\n",
       "      <td>NaN</td>\n",
       "      <td>8473</td>\n",
       "      <td>NaN</td>\n",
       "      <td>NaN</td>\n",
       "      <td>6217</td>\n",
       "      <td>NaN</td>\n",
       "      <td>NaN</td>\n",
       "      <td>NaN</td>\n",
       "    </tr>\n",
       "    <tr>\n",
       "      <th>top</th>\n",
       "      <td>0001_01</td>\n",
       "      <td>NaN</td>\n",
       "      <td>NaN</td>\n",
       "      <td>G/734/S</td>\n",
       "      <td>NaN</td>\n",
       "      <td>NaN</td>\n",
       "      <td>NaN</td>\n",
       "      <td>NaN</td>\n",
       "      <td>NaN</td>\n",
       "      <td>NaN</td>\n",
       "      <td>NaN</td>\n",
       "      <td>NaN</td>\n",
       "      <td>Gollux Reedall</td>\n",
       "      <td>NaN</td>\n",
       "      <td>NaN</td>\n",
       "      <td>4498</td>\n",
       "      <td>NaN</td>\n",
       "      <td>NaN</td>\n",
       "      <td>NaN</td>\n",
       "    </tr>\n",
       "    <tr>\n",
       "      <th>freq</th>\n",
       "      <td>1</td>\n",
       "      <td>NaN</td>\n",
       "      <td>NaN</td>\n",
       "      <td>8</td>\n",
       "      <td>NaN</td>\n",
       "      <td>NaN</td>\n",
       "      <td>NaN</td>\n",
       "      <td>NaN</td>\n",
       "      <td>NaN</td>\n",
       "      <td>NaN</td>\n",
       "      <td>NaN</td>\n",
       "      <td>NaN</td>\n",
       "      <td>2</td>\n",
       "      <td>NaN</td>\n",
       "      <td>NaN</td>\n",
       "      <td>8</td>\n",
       "      <td>NaN</td>\n",
       "      <td>NaN</td>\n",
       "      <td>NaN</td>\n",
       "    </tr>\n",
       "    <tr>\n",
       "      <th>mean</th>\n",
       "      <td>NaN</td>\n",
       "      <td>0.649833</td>\n",
       "      <td>0.349362</td>\n",
       "      <td>NaN</td>\n",
       "      <td>1.494306</td>\n",
       "      <td>28.790291</td>\n",
       "      <td>0.022892</td>\n",
       "      <td>224.687617</td>\n",
       "      <td>458.077203</td>\n",
       "      <td>173.729169</td>\n",
       "      <td>311.138778</td>\n",
       "      <td>304.854791</td>\n",
       "      <td>NaN</td>\n",
       "      <td>0.503624</td>\n",
       "      <td>0.517773</td>\n",
       "      <td>NaN</td>\n",
       "      <td>4.389969</td>\n",
       "      <td>600.367671</td>\n",
       "      <td>0.539054</td>\n",
       "    </tr>\n",
       "    <tr>\n",
       "      <th>std</th>\n",
       "      <td>NaN</td>\n",
       "      <td>0.795183</td>\n",
       "      <td>0.476796</td>\n",
       "      <td>NaN</td>\n",
       "      <td>0.814966</td>\n",
       "      <td>14.341404</td>\n",
       "      <td>0.149568</td>\n",
       "      <td>659.739364</td>\n",
       "      <td>1594.434978</td>\n",
       "      <td>597.417440</td>\n",
       "      <td>1124.675871</td>\n",
       "      <td>1133.259049</td>\n",
       "      <td>NaN</td>\n",
       "      <td>0.500016</td>\n",
       "      <td>1.054241</td>\n",
       "      <td>NaN</td>\n",
       "      <td>1.842573</td>\n",
       "      <td>505.973797</td>\n",
       "      <td>0.542487</td>\n",
       "    </tr>\n",
       "    <tr>\n",
       "      <th>min</th>\n",
       "      <td>NaN</td>\n",
       "      <td>0.000000</td>\n",
       "      <td>0.000000</td>\n",
       "      <td>NaN</td>\n",
       "      <td>0.000000</td>\n",
       "      <td>0.000000</td>\n",
       "      <td>0.000000</td>\n",
       "      <td>0.000000</td>\n",
       "      <td>0.000000</td>\n",
       "      <td>0.000000</td>\n",
       "      <td>0.000000</td>\n",
       "      <td>0.000000</td>\n",
       "      <td>NaN</td>\n",
       "      <td>0.000000</td>\n",
       "      <td>0.000000</td>\n",
       "      <td>NaN</td>\n",
       "      <td>0.000000</td>\n",
       "      <td>0.000000</td>\n",
       "      <td>0.000000</td>\n",
       "    </tr>\n",
       "    <tr>\n",
       "      <th>25%</th>\n",
       "      <td>NaN</td>\n",
       "      <td>0.000000</td>\n",
       "      <td>0.000000</td>\n",
       "      <td>NaN</td>\n",
       "      <td>1.000000</td>\n",
       "      <td>20.000000</td>\n",
       "      <td>0.000000</td>\n",
       "      <td>0.000000</td>\n",
       "      <td>0.000000</td>\n",
       "      <td>0.000000</td>\n",
       "      <td>0.000000</td>\n",
       "      <td>0.000000</td>\n",
       "      <td>NaN</td>\n",
       "      <td>0.000000</td>\n",
       "      <td>0.000000</td>\n",
       "      <td>NaN</td>\n",
       "      <td>3.000000</td>\n",
       "      <td>173.000000</td>\n",
       "      <td>0.000000</td>\n",
       "    </tr>\n",
       "    <tr>\n",
       "      <th>50%</th>\n",
       "      <td>NaN</td>\n",
       "      <td>0.000000</td>\n",
       "      <td>0.000000</td>\n",
       "      <td>NaN</td>\n",
       "      <td>2.000000</td>\n",
       "      <td>27.000000</td>\n",
       "      <td>0.000000</td>\n",
       "      <td>0.000000</td>\n",
       "      <td>0.000000</td>\n",
       "      <td>0.000000</td>\n",
       "      <td>0.000000</td>\n",
       "      <td>0.000000</td>\n",
       "      <td>NaN</td>\n",
       "      <td>1.000000</td>\n",
       "      <td>0.000000</td>\n",
       "      <td>NaN</td>\n",
       "      <td>5.000000</td>\n",
       "      <td>448.000000</td>\n",
       "      <td>1.000000</td>\n",
       "    </tr>\n",
       "    <tr>\n",
       "      <th>75%</th>\n",
       "      <td>NaN</td>\n",
       "      <td>1.000000</td>\n",
       "      <td>1.000000</td>\n",
       "      <td>NaN</td>\n",
       "      <td>2.000000</td>\n",
       "      <td>37.000000</td>\n",
       "      <td>0.000000</td>\n",
       "      <td>78.000000</td>\n",
       "      <td>118.000000</td>\n",
       "      <td>45.000000</td>\n",
       "      <td>89.000000</td>\n",
       "      <td>71.000000</td>\n",
       "      <td>NaN</td>\n",
       "      <td>1.000000</td>\n",
       "      <td>1.000000</td>\n",
       "      <td>NaN</td>\n",
       "      <td>6.000000</td>\n",
       "      <td>983.000000</td>\n",
       "      <td>1.000000</td>\n",
       "    </tr>\n",
       "    <tr>\n",
       "      <th>max</th>\n",
       "      <td>NaN</td>\n",
       "      <td>2.000000</td>\n",
       "      <td>1.000000</td>\n",
       "      <td>NaN</td>\n",
       "      <td>2.000000</td>\n",
       "      <td>79.000000</td>\n",
       "      <td>1.000000</td>\n",
       "      <td>14327.000000</td>\n",
       "      <td>29813.000000</td>\n",
       "      <td>23492.000000</td>\n",
       "      <td>22408.000000</td>\n",
       "      <td>24133.000000</td>\n",
       "      <td>NaN</td>\n",
       "      <td>1.000000</td>\n",
       "      <td>7.000000</td>\n",
       "      <td>NaN</td>\n",
       "      <td>8.000000</td>\n",
       "      <td>1894.000000</td>\n",
       "      <td>2.000000</td>\n",
       "    </tr>\n",
       "  </tbody>\n",
       "</table>\n",
       "</div>"
      ],
      "text/plain": [
       "       PassengerId   HomePlanet    CryoSleep    Cabin  Destination  \\\n",
       "count         8693  8693.000000  8693.000000     8494  8693.000000   \n",
       "unique        8693          NaN          NaN     6560          NaN   \n",
       "top        0001_01          NaN          NaN  G/734/S          NaN   \n",
       "freq             1          NaN          NaN        8          NaN   \n",
       "mean           NaN     0.649833     0.349362      NaN     1.494306   \n",
       "std            NaN     0.795183     0.476796      NaN     0.814966   \n",
       "min            NaN     0.000000     0.000000      NaN     0.000000   \n",
       "25%            NaN     0.000000     0.000000      NaN     1.000000   \n",
       "50%            NaN     0.000000     0.000000      NaN     2.000000   \n",
       "75%            NaN     1.000000     1.000000      NaN     2.000000   \n",
       "max            NaN     2.000000     1.000000      NaN     2.000000   \n",
       "\n",
       "                Age          VIP   RoomService     FoodCourt  ShoppingMall  \\\n",
       "count   8693.000000  8693.000000   8693.000000   8693.000000   8693.000000   \n",
       "unique          NaN          NaN           NaN           NaN           NaN   \n",
       "top             NaN          NaN           NaN           NaN           NaN   \n",
       "freq            NaN          NaN           NaN           NaN           NaN   \n",
       "mean      28.790291     0.022892    224.687617    458.077203    173.729169   \n",
       "std       14.341404     0.149568    659.739364   1594.434978    597.417440   \n",
       "min        0.000000     0.000000      0.000000      0.000000      0.000000   \n",
       "25%       20.000000     0.000000      0.000000      0.000000      0.000000   \n",
       "50%       27.000000     0.000000      0.000000      0.000000      0.000000   \n",
       "75%       37.000000     0.000000     78.000000    118.000000     45.000000   \n",
       "max       79.000000     1.000000  14327.000000  29813.000000  23492.000000   \n",
       "\n",
       "                 Spa        VRDeck            Name  Transported        Group  \\\n",
       "count    8693.000000   8693.000000            8493  8693.000000  8693.000000   \n",
       "unique           NaN           NaN            8473          NaN          NaN   \n",
       "top              NaN           NaN  Gollux Reedall          NaN          NaN   \n",
       "freq             NaN           NaN               2          NaN          NaN   \n",
       "mean      311.138778    304.854791             NaN     0.503624     0.517773   \n",
       "std      1124.675871   1133.259049             NaN     0.500016     1.054241   \n",
       "min         0.000000      0.000000             NaN     0.000000     0.000000   \n",
       "25%         0.000000      0.000000             NaN     0.000000     0.000000   \n",
       "50%         0.000000      0.000000             NaN     1.000000     0.000000   \n",
       "75%        89.000000     71.000000             NaN     1.000000     1.000000   \n",
       "max     22408.000000  24133.000000             NaN     1.000000     7.000000   \n",
       "\n",
       "          Id         Deck       Number         Side  \n",
       "count   8693  8693.000000  8693.000000  8693.000000  \n",
       "unique  6217          NaN          NaN          NaN  \n",
       "top     4498          NaN          NaN          NaN  \n",
       "freq       8          NaN          NaN          NaN  \n",
       "mean     NaN     4.389969   600.367671     0.539054  \n",
       "std      NaN     1.842573   505.973797     0.542487  \n",
       "min      NaN     0.000000     0.000000     0.000000  \n",
       "25%      NaN     3.000000   173.000000     0.000000  \n",
       "50%      NaN     5.000000   448.000000     1.000000  \n",
       "75%      NaN     6.000000   983.000000     1.000000  \n",
       "max      NaN     8.000000  1894.000000     2.000000  "
      ]
     },
     "execution_count": 9,
     "metadata": {},
     "output_type": "execute_result"
    }
   ],
   "source": [
    "#convert Side, Deck, Group to numerical values\n",
    "train_df['Side'] = labelenc.fit_transform(train_df['Side'])\n",
    "train_df['Deck'] = labelenc.fit_transform(train_df['Deck'])\n",
    "train_df['Group'] = labelenc.fit_transform(train_df['Group'])\n",
    "\n",
    "test_df['Side'] = labelenc.fit_transform(test_df['Side'])\n",
    "test_df['Deck'] = labelenc.fit_transform(test_df['Deck'])\n",
    "test_df['Group'] = labelenc.fit_transform(test_df['Group'])\n",
    "\n",
    "#completing missing values for Deck, Number, Side\n",
    "\n",
    "imputer = KNNImputer(n_neighbors=10)\n",
    "\n",
    "train_df['Deck'] = imputer.fit_transform(train_df[['Deck']]).ravel()\n",
    "train_df['Number'] = imputer.fit_transform(train_df[['Number']]).ravel()\n",
    "train_df['Side'] = imputer.fit_transform(train_df[['Side']]).ravel()\n",
    "\n",
    "test_df['Deck'] = imputer.fit_transform(test_df[['Deck']]).ravel()\n",
    "test_df['Number'] = imputer.fit_transform(test_df[['Number']]).ravel()\n",
    "test_df['Side'] = imputer.fit_transform(test_df[['Side']]).ravel()\n",
    "\n",
    "train_df.describe(include='all')\n"
   ]
  },
  {
   "cell_type": "code",
   "execution_count": 10,
   "id": "d8d3cb52-1bae-413a-ba27-82e7c4885334",
   "metadata": {},
   "outputs": [
    {
     "name": "stdout",
     "output_type": "stream",
     "text": [
      "PassengerId      object\n",
      "HomePlanet        int32\n",
      "CryoSleep         int64\n",
      "Cabin            object\n",
      "Destination       int32\n",
      "Age             float64\n",
      "VIP               int64\n",
      "RoomService     float64\n",
      "FoodCourt       float64\n",
      "ShoppingMall    float64\n",
      "Spa             float64\n",
      "VRDeck          float64\n",
      "Name             object\n",
      "Transported       int64\n",
      "Group             int32\n",
      "Id               object\n",
      "Deck            float64\n",
      "Number          float64\n",
      "Side            float64\n",
      "dtype: object\n"
     ]
    }
   ],
   "source": [
    "print(train_df.dtypes)"
   ]
  },
  {
   "cell_type": "code",
   "execution_count": 11,
   "id": "2a573568-1508-433f-8571-13822b9bd23c",
   "metadata": {},
   "outputs": [
    {
     "data": {
      "text/plain": [
       "PassengerId       0\n",
       "HomePlanet        0\n",
       "CryoSleep         0\n",
       "Cabin           100\n",
       "Destination       0\n",
       "Age               0\n",
       "VIP               0\n",
       "RoomService       0\n",
       "FoodCourt         0\n",
       "ShoppingMall      0\n",
       "Spa               0\n",
       "VRDeck            0\n",
       "Name             94\n",
       "Group             0\n",
       "Id                0\n",
       "Deck              0\n",
       "Number            0\n",
       "Side              0\n",
       "dtype: int64"
      ]
     },
     "execution_count": 11,
     "metadata": {},
     "output_type": "execute_result"
    }
   ],
   "source": [
    "test_df.isnull().sum()"
   ]
  },
  {
   "cell_type": "code",
   "execution_count": 12,
   "id": "24431b6b-1f7a-4513-af6a-e81155b2a21f",
   "metadata": {},
   "outputs": [],
   "source": [
    "#create buckets for Age, RoomService, FoodCourt, ShoppingMall, Spa, VRDeck and Number\n",
    "\n",
    "train_df['AgeBin'] = pd.qcut(train_df['Age'],5)\n",
    "train_df['RoomServiceBin'] = pd.cut(train_df['RoomService'],12)\n",
    "train_df['SpaBin'] = pd.cut(train_df['Spa'],12)\n",
    "train_df['VRDeckBin'] = pd.cut(train_df['VRDeck'],12)\n",
    "train_df['ShoppingMallBin'] = pd.cut(train_df['ShoppingMall'],12)\n",
    "train_df['NumberBin'] = pd.cut(train_df['Number'],10)\n",
    "train_df['FoodCourtBin'] = pd.cut(train_df['FoodCourt'],12)\n",
    "\n",
    "test_df['AgeBin'] = pd.qcut(test_df['Age'],5)\n",
    "test_df['RoomServiceBin'] = pd.cut(test_df['RoomService'],12)\n",
    "test_df['SpaBin'] = pd.cut(test_df['Spa'],12)\n",
    "test_df['VRDeckBin'] = pd.cut(test_df['VRDeck'],12)\n",
    "test_df['ShoppingMallBin'] = pd.cut(test_df['ShoppingMall'],12)\n",
    "test_df['NumberBin'] = pd.cut(test_df['Number'],10)\n",
    "test_df['FoodCourtBin'] = pd.cut(test_df['FoodCourt'],12)\n"
   ]
  },
  {
   "cell_type": "code",
   "execution_count": 13,
   "id": "65b93ae9-2ab3-421a-ba92-bb9b8e765b0e",
   "metadata": {},
   "outputs": [
    {
     "name": "stderr",
     "output_type": "stream",
     "text": [
      "C:\\Users\\pfali\\Desktop\\Pyton\\Venv\\Lib\\Kaggle\\Lib\\site-packages\\seaborn\\axisgrid.py:118: UserWarning: The figure layout has changed to tight\n",
      "  self._figure.tight_layout(*args, **kwargs)\n"
     ]
    },
    {
     "data": {
      "text/plain": [
       "<seaborn.axisgrid.FacetGrid at 0x2244283eb90>"
      ]
     },
     "execution_count": 13,
     "metadata": {},
     "output_type": "execute_result"
    },
    {
     "data": {
      "image/png": "[encoded data removed]",
      "text/plain": [
       "<Figure size 600x300 with 2 Axes>"
      ]
     },
     "metadata": {},
     "output_type": "display_data"
    }
   ],
   "source": [
    "q = sns.FacetGrid(train_df, col='Transported')\n",
    "q.map(plt.hist,'Age')"
   ]
  },
  {
   "cell_type": "code",
   "execution_count": 14,
   "id": "3b73edb1-24bd-4df4-857b-e9bac22422d1",
   "metadata": {},
   "outputs": [
    {
     "name": "stderr",
     "output_type": "stream",
     "text": [
      "C:\\Users\\pfali\\Desktop\\Pyton\\Venv\\Lib\\Kaggle\\Lib\\site-packages\\seaborn\\axisgrid.py:118: UserWarning: The figure layout has changed to tight\n",
      "  self._figure.tight_layout(*args, **kwargs)\n"
     ]
    },
    {
     "data": {
      "text/plain": [
       "<seaborn.axisgrid.FacetGrid at 0x224427cb610>"
      ]
     },
     "execution_count": 14,
     "metadata": {},
     "output_type": "execute_result"
    },
    {
     "data": {
      "image/png": "[encoded data removed]",
      "text/plain": [
       "<Figure size 600x300 with 2 Axes>"
      ]
     },
     "metadata": {},
     "output_type": "display_data"
    }
   ],
   "source": [
    "p = sns.FacetGrid(train_df, col='Transported')\n",
    "p.map(plt.hist,'HomePlanet')"
   ]
  },
  {
   "cell_type": "code",
   "execution_count": 15,
   "id": "fd2d59fc-488e-4552-ba6a-472311acc952",
   "metadata": {},
   "outputs": [
    {
     "name": "stderr",
     "output_type": "stream",
     "text": [
      "C:\\Users\\pfali\\Desktop\\Pyton\\Venv\\Lib\\Kaggle\\Lib\\site-packages\\seaborn\\axisgrid.py:118: UserWarning: The figure layout has changed to tight\n",
      "  self._figure.tight_layout(*args, **kwargs)\n"
     ]
    },
    {
     "data": {
      "text/plain": [
       "<seaborn.axisgrid.FacetGrid at 0x22442728a50>"
      ]
     },
     "execution_count": 15,
     "metadata": {},
     "output_type": "execute_result"
    },
    {
     "data": {
      "image/png": "[encoded data removed]",
      "text/plain": [
       "<Figure size 600x300 with 2 Axes>"
      ]
     },
     "metadata": {},
     "output_type": "display_data"
    }
   ],
   "source": [
    "p = sns.FacetGrid(train_df, col='Transported')\n",
    "p.map(plt.hist,'CryoSleep')"
   ]
  },
  {
   "cell_type": "code",
   "execution_count": 16,
   "id": "4786d737-cb28-4b7f-8fc5-deb8b80cefed",
   "metadata": {},
   "outputs": [
    {
     "name": "stderr",
     "output_type": "stream",
     "text": [
      "C:\\Users\\pfali\\Desktop\\Pyton\\Venv\\Lib\\Kaggle\\Lib\\site-packages\\seaborn\\axisgrid.py:118: UserWarning: The figure layout has changed to tight\n",
      "  self._figure.tight_layout(*args, **kwargs)\n"
     ]
    },
    {
     "data": {
      "text/plain": [
       "<seaborn.axisgrid.FacetGrid at 0x224425cad10>"
      ]
     },
     "execution_count": 16,
     "metadata": {},
     "output_type": "execute_result"
    },
    {
     "data": {
      "image/png": "[encoded data removed]",
      "text/plain": [
       "<Figure size 600x300 with 2 Axes>"
      ]
     },
     "metadata": {},
     "output_type": "display_data"
    }
   ],
   "source": [
    "p = sns.FacetGrid(train_df, col='Transported')\n",
    "p.map(plt.hist,'Destination')"
   ]
  },
  {
   "cell_type": "code",
   "execution_count": 17,
   "id": "a39a065c-446a-49d9-a52d-dd71ce896056",
   "metadata": {},
   "outputs": [
    {
     "name": "stderr",
     "output_type": "stream",
     "text": [
      "C:\\Users\\pfali\\Desktop\\Pyton\\Venv\\Lib\\Kaggle\\Lib\\site-packages\\seaborn\\axisgrid.py:118: UserWarning: The figure layout has changed to tight\n",
      "  self._figure.tight_layout(*args, **kwargs)\n"
     ]
    },
    {
     "data": {
      "text/plain": [
       "<seaborn.axisgrid.FacetGrid at 0x224425f3610>"
      ]
     },
     "execution_count": 17,
     "metadata": {},
     "output_type": "execute_result"
    },
    {
     "data": {
      "image/png": "[encoded data removed]",
      "text/plain": [
       "<Figure size 600x300 with 2 Axes>"
      ]
     },
     "metadata": {},
     "output_type": "display_data"
    }
   ],
   "source": [
    "p = sns.FacetGrid(train_df, col='Transported')\n",
    "p.map(plt.hist,'VIP')"
   ]
  },
  {
   "cell_type": "code",
   "execution_count": 18,
   "id": "4e73845e-2810-43f6-b7a5-a5af2817c8ed",
   "metadata": {},
   "outputs": [
    {
     "name": "stderr",
     "output_type": "stream",
     "text": [
      "C:\\Users\\pfali\\Desktop\\Pyton\\Venv\\Lib\\Kaggle\\Lib\\site-packages\\seaborn\\axisgrid.py:118: UserWarning: The figure layout has changed to tight\n",
      "  self._figure.tight_layout(*args, **kwargs)\n"
     ]
    },
    {
     "data": {
      "text/plain": [
       "<seaborn.axisgrid.FacetGrid at 0x224424c7890>"
      ]
     },
     "execution_count": 18,
     "metadata": {},
     "output_type": "execute_result"
    },
    {
     "data": {
      "image/png": "[encoded data removed]",
      "text/plain": [
       "<Figure size 600x300 with 2 Axes>"
      ]
     },
     "metadata": {},
     "output_type": "display_data"
    }
   ],
   "source": [
    "p = sns.FacetGrid(train_df, col='Transported')\n",
    "p.map(plt.hist,'RoomService')"
   ]
  },
  {
   "cell_type": "code",
   "execution_count": 19,
   "id": "be96f97d-13e9-4dde-af33-3a17d216ee4b",
   "metadata": {},
   "outputs": [
    {
     "name": "stderr",
     "output_type": "stream",
     "text": [
      "C:\\Users\\pfali\\Desktop\\Pyton\\Venv\\Lib\\Kaggle\\Lib\\site-packages\\seaborn\\axisgrid.py:118: UserWarning: The figure layout has changed to tight\n",
      "  self._figure.tight_layout(*args, **kwargs)\n"
     ]
    },
    {
     "data": {
      "text/plain": [
       "<seaborn.axisgrid.FacetGrid at 0x2244259b610>"
      ]
     },
     "execution_count": 19,
     "metadata": {},
     "output_type": "execute_result"
    },
    {
     "data": {
      "image/png": "[encoded data removed]",
      "text/plain": [
       "<Figure size 600x300 with 2 Axes>"
      ]
     },
     "metadata": {},
     "output_type": "display_data"
    }
   ],
   "source": [
    "p = sns.FacetGrid(train_df, col='Transported')\n",
    "p.map(plt.hist,'FoodCourt')"
   ]
  },
  {
   "cell_type": "code",
   "execution_count": 20,
   "id": "c03b75d9-48a4-485f-a599-b4ec5b11b68d",
   "metadata": {},
   "outputs": [
    {
     "name": "stderr",
     "output_type": "stream",
     "text": [
      "C:\\Users\\pfali\\Desktop\\Pyton\\Venv\\Lib\\Kaggle\\Lib\\site-packages\\seaborn\\axisgrid.py:118: UserWarning: The figure layout has changed to tight\n",
      "  self._figure.tight_layout(*args, **kwargs)\n"
     ]
    },
    {
     "data": {
      "text/plain": [
       "<seaborn.axisgrid.FacetGrid at 0x2244263aa10>"
      ]
     },
     "execution_count": 20,
     "metadata": {},
     "output_type": "execute_result"
    },
    {
     "data": {
      "image/png": "[encoded data removed]",
      "text/plain": [
       "<Figure size 600x300 with 2 Axes>"
      ]
     },
     "metadata": {},
     "output_type": "display_data"
    }
   ],
   "source": [
    "p = sns.FacetGrid(train_df, col='Transported')\n",
    "p.map(plt.hist,'ShoppingMall')"
   ]
  },
  {
   "cell_type": "code",
   "execution_count": 21,
   "id": "2b5f9370-4243-4f75-9a8a-b65044ce1dca",
   "metadata": {},
   "outputs": [
    {
     "name": "stderr",
     "output_type": "stream",
     "text": [
      "C:\\Users\\pfali\\Desktop\\Pyton\\Venv\\Lib\\Kaggle\\Lib\\site-packages\\seaborn\\axisgrid.py:118: UserWarning: The figure layout has changed to tight\n",
      "  self._figure.tight_layout(*args, **kwargs)\n"
     ]
    },
    {
     "data": {
      "text/plain": [
       "<seaborn.axisgrid.FacetGrid at 0x22441e0f890>"
      ]
     },
     "execution_count": 21,
     "metadata": {},
     "output_type": "execute_result"
    },
    {
     "data": {
      "image/png": "[encoded data removed]",
      "text/plain": [
       "<Figure size 600x300 with 2 Axes>"
      ]
     },
     "metadata": {},
     "output_type": "display_data"
    }
   ],
   "source": [
    "p = sns.FacetGrid(train_df, col='Transported')\n",
    "p.map(plt.hist,'Spa')"
   ]
  },
  {
   "cell_type": "code",
   "execution_count": 22,
   "id": "c7848bc2-2ab1-4b0c-b367-58dd4c42584a",
   "metadata": {},
   "outputs": [
    {
     "name": "stderr",
     "output_type": "stream",
     "text": [
      "C:\\Users\\pfali\\Desktop\\Pyton\\Venv\\Lib\\Kaggle\\Lib\\site-packages\\seaborn\\axisgrid.py:118: UserWarning: The figure layout has changed to tight\n",
      "  self._figure.tight_layout(*args, **kwargs)\n"
     ]
    },
    {
     "data": {
      "text/plain": [
       "<seaborn.axisgrid.FacetGrid at 0x2244255ee50>"
      ]
     },
     "execution_count": 22,
     "metadata": {},
     "output_type": "execute_result"
    },
    {
     "data": {
      "image/png": "[encoded data removed]",
      "text/plain": [
       "<Figure size 600x300 with 2 Axes>"
      ]
     },
     "metadata": {},
     "output_type": "display_data"
    }
   ],
   "source": [
    "p = sns.FacetGrid(train_df, col='Transported')\n",
    "p.map(plt.hist,'VRDeck')"
   ]
  },
  {
   "cell_type": "code",
   "execution_count": 23,
   "id": "0ec346a1-38a9-41c0-b3be-b15c18df15ab",
   "metadata": {},
   "outputs": [
    {
     "name": "stderr",
     "output_type": "stream",
     "text": [
      "C:\\Users\\pfali\\Desktop\\Pyton\\Venv\\Lib\\Kaggle\\Lib\\site-packages\\seaborn\\axisgrid.py:118: UserWarning: The figure layout has changed to tight\n",
      "  self._figure.tight_layout(*args, **kwargs)\n"
     ]
    },
    {
     "data": {
      "text/plain": [
       "<seaborn.axisgrid.FacetGrid at 0x22442362550>"
      ]
     },
     "execution_count": 23,
     "metadata": {},
     "output_type": "execute_result"
    },
    {
     "data": {
      "image/png": "[encoded data removed]",
      "text/plain": [
       "<Figure size 600x300 with 2 Axes>"
      ]
     },
     "metadata": {},
     "output_type": "display_data"
    }
   ],
   "source": [
    "p = sns.FacetGrid(train_df, col='Transported')\n",
    "p.map(plt.hist,'Group')"
   ]
  },
  {
   "cell_type": "code",
   "execution_count": 24,
   "id": "a4a43be3-4d6c-48e3-a2f9-ac3e070fdd9e",
   "metadata": {},
   "outputs": [
    {
     "name": "stderr",
     "output_type": "stream",
     "text": [
      "C:\\Users\\pfali\\Desktop\\Pyton\\Venv\\Lib\\Kaggle\\Lib\\site-packages\\seaborn\\axisgrid.py:118: UserWarning: The figure layout has changed to tight\n",
      "  self._figure.tight_layout(*args, **kwargs)\n"
     ]
    },
    {
     "data": {
      "text/plain": [
       "<seaborn.axisgrid.FacetGrid at 0x224424c14d0>"
      ]
     },
     "execution_count": 24,
     "metadata": {},
     "output_type": "execute_result"
    },
    {
     "data": {
      "image/png": "[encoded data removed]",
      "text/plain": [
       "<Figure size 600x300 with 2 Axes>"
      ]
     },
     "metadata": {},
     "output_type": "display_data"
    }
   ],
   "source": [
    "p = sns.FacetGrid(train_df, col='Transported')\n",
    "p.map(plt.hist,'Side')"
   ]
  },
  {
   "cell_type": "code",
   "execution_count": 25,
   "id": "2f1e65e6-634f-4faf-8b5d-6f8ab721ba3d",
   "metadata": {},
   "outputs": [
    {
     "name": "stderr",
     "output_type": "stream",
     "text": [
      "C:\\Users\\pfali\\Desktop\\Pyton\\Venv\\Lib\\Kaggle\\Lib\\site-packages\\seaborn\\axisgrid.py:118: UserWarning: The figure layout has changed to tight\n",
      "  self._figure.tight_layout(*args, **kwargs)\n"
     ]
    },
    {
     "data": {
      "text/plain": [
       "<seaborn.axisgrid.FacetGrid at 0x22443b92550>"
      ]
     },
     "execution_count": 25,
     "metadata": {},
     "output_type": "execute_result"
    },
    {
     "data": {
      "image/png": "[encoded data removed]",
      "text/plain": [
       "<Figure size 600x300 with 2 Axes>"
      ]
     },
     "metadata": {},
     "output_type": "display_data"
    }
   ],
   "source": [
    "p = sns.FacetGrid(train_df, col='Transported')\n",
    "p.map(plt.hist,'Number')\n",
    "\n",
    "#The plots show that FoodCourt, RoomService, Spa, VRDeck, ShoppingMall have large tails, therefore should be bucketized"
   ]
  },
  {
   "cell_type": "code",
   "execution_count": 26,
   "id": "b8d32aa5-990c-4fa0-b77d-925e827ceabb",
   "metadata": {},
   "outputs": [
    {
     "data": {
      "image/png": "[encoded data removed]",
      "text/plain": [
       "<Figure size 640x480 with 2 Axes>"
      ]
     },
     "metadata": {},
     "output_type": "display_data"
    }
   ],
   "source": [
    "#checking correlations between target and input features\n",
    "\n",
    "def corrheatmap(df):\n",
    "    hm = sns.heatmap(df.corr(), annot=True,cmap='Oranges')\n",
    "    plt.show()\n",
    "\n",
    "corrheatmap(train_df[['RoomService','Spa','VRDeck','ShoppingMall','FoodCourt','Age','VIP','Transported']])"
   ]
  },
  {
   "cell_type": "code",
   "execution_count": 27,
   "id": "efbf6248-fb8b-4507-bcf1-4b3517be0589",
   "metadata": {},
   "outputs": [
    {
     "data": {
      "image/png": "[encoded data removed]",
      "text/plain": [
       "<Figure size 640x480 with 2 Axes>"
      ]
     },
     "metadata": {},
     "output_type": "display_data"
    }
   ],
   "source": [
    "#checking correlations between target and input features\n",
    "\n",
    "def corrheatmap(df):\n",
    "    hm = sns.heatmap(df.corr(), annot=True,cmap='Oranges')\n",
    "    plt.show()\n",
    "\n",
    "corrheatmap(train_df[['Destination','HomePlanet','CryoSleep','Deck','Number','Side','Group','Transported']])\n",
    "\n",
    "#Both heatmaps show the greatest correlation between the targe and features CryoSleep, HomePlanet, Side, Group. Hence, one could decide to drop other features, but this could result in overfitting the data, so all features will be left for training."
   ]
  },
  {
   "cell_type": "code",
   "execution_count": 28,
   "id": "26be1d81-fd4d-457e-84db-6b95921e88d0",
   "metadata": {},
   "outputs": [],
   "source": [
    "#exclude features\n",
    "\n",
    "drop_column = ['Name','Cabin','Spa','VRDeck','FoodCourt','ShoppingMall','RoomService','Id','Number','Age','PassengerId']\n",
    "\n",
    "train_df.drop(drop_column, axis=1, inplace=True)\n",
    "test_df.drop(drop_column, axis=1, inplace=True)\n"
   ]
  },
  {
   "cell_type": "code",
   "execution_count": 29,
   "id": "04ba5e42-1d9b-4e2c-82b6-de5fd55b6e3e",
   "metadata": {},
   "outputs": [
    {
     "name": "stdout",
     "output_type": "stream",
     "text": [
      "HomePlanet            int32\n",
      "CryoSleep             int64\n",
      "Destination           int32\n",
      "VIP                   int64\n",
      "Transported           int64\n",
      "Group                 int32\n",
      "Deck                float64\n",
      "Side                float64\n",
      "AgeBin             category\n",
      "RoomServiceBin     category\n",
      "SpaBin             category\n",
      "VRDeckBin          category\n",
      "ShoppingMallBin    category\n",
      "NumberBin          category\n",
      "FoodCourtBin       category\n",
      "dtype: object\n"
     ]
    }
   ],
   "source": [
    "print(train_df.dtypes)"
   ]
  },
  {
   "cell_type": "code",
   "execution_count": 30,
   "id": "d5c1e159-8a43-4d52-a829-9c6e03901238",
   "metadata": {},
   "outputs": [
    {
     "name": "stdout",
     "output_type": "stream",
     "text": [
      "HomePlanet            int32\n",
      "CryoSleep             int64\n",
      "Destination           int32\n",
      "VIP                   int64\n",
      "Group                 int32\n",
      "Deck                float64\n",
      "Side                float64\n",
      "AgeBin             category\n",
      "RoomServiceBin     category\n",
      "SpaBin             category\n",
      "VRDeckBin          category\n",
      "ShoppingMallBin    category\n",
      "NumberBin          category\n",
      "FoodCourtBin       category\n",
      "dtype: object\n"
     ]
    }
   ],
   "source": [
    "print(test_df.dtypes)"
   ]
  },
  {
   "cell_type": "code",
   "execution_count": 31,
   "id": "6a580771-07b1-4bb0-bf07-ce87e94876bc",
   "metadata": {},
   "outputs": [],
   "source": [
    "#transform bins\n",
    "\n",
    "train_df['AgeBin'] = labelenc.fit_transform(train_df['AgeBin'])\n",
    "train_df['RoomServiceBin'] = labelenc.fit_transform(train_df['RoomServiceBin'])\n",
    "train_df['SpaBin'] = labelenc.fit_transform(train_df['SpaBin'])\n",
    "train_df['VRDeckBin'] = labelenc.fit_transform(train_df['VRDeckBin'])\n",
    "train_df['NumberBin'] = labelenc.fit_transform(train_df['NumberBin'])\n",
    "train_df['ShoppingMallBin'] = labelenc.fit_transform(train_df['ShoppingMallBin'])\n",
    "train_df['FoodCourtBin'] = labelenc.fit_transform(train_df['FoodCourtBin'])\n",
    "\n",
    "test_df['AgeBin'] = labelenc.fit_transform(test_df['AgeBin'])\n",
    "test_df['RoomServiceBin'] = labelenc.fit_transform(test_df['RoomServiceBin'])\n",
    "test_df['SpaBin'] = labelenc.fit_transform(test_df['SpaBin'])\n",
    "test_df['VRDeckBin'] = labelenc.fit_transform(test_df['VRDeckBin'])\n",
    "test_df['NumberBin'] = labelenc.fit_transform(test_df['NumberBin'])\n",
    "test_df['ShoppingMallBin'] = labelenc.fit_transform(test_df['ShoppingMallBin'])\n",
    "test_df['FoodCourtBin'] = labelenc.fit_transform(test_df['FoodCourtBin'])\n",
    "\n"
   ]
  },
  {
   "cell_type": "code",
   "execution_count": 32,
   "id": "d4fb563a-54d3-48a3-ac6d-aed9f252ef37",
   "metadata": {},
   "outputs": [
    {
     "name": "stdout",
     "output_type": "stream",
     "text": [
      "HomePlanet           int32\n",
      "CryoSleep            int64\n",
      "Destination          int32\n",
      "VIP                  int64\n",
      "Transported          int64\n",
      "Group                int32\n",
      "Deck               float64\n",
      "Side               float64\n",
      "AgeBin               int32\n",
      "RoomServiceBin       int32\n",
      "SpaBin               int32\n",
      "VRDeckBin            int32\n",
      "ShoppingMallBin      int32\n",
      "NumberBin            int32\n",
      "FoodCourtBin         int32\n",
      "dtype: object\n"
     ]
    }
   ],
   "source": [
    "print(train_df.dtypes)"
   ]
  },
  {
   "cell_type": "code",
   "execution_count": 33,
   "id": "68fba9cb-afa7-493a-af09-0255f1cd27f9",
   "metadata": {},
   "outputs": [
    {
     "name": "stdout",
     "output_type": "stream",
     "text": [
      "HomePlanet           int32\n",
      "CryoSleep            int64\n",
      "Destination          int32\n",
      "VIP                  int64\n",
      "Group                int32\n",
      "Deck               float64\n",
      "Side               float64\n",
      "AgeBin               int32\n",
      "RoomServiceBin       int32\n",
      "SpaBin               int32\n",
      "VRDeckBin            int32\n",
      "ShoppingMallBin      int32\n",
      "NumberBin            int32\n",
      "FoodCourtBin         int32\n",
      "dtype: object\n"
     ]
    }
   ],
   "source": [
    "print(test_df.dtypes)"
   ]
  },
  {
   "cell_type": "code",
   "execution_count": 60,
   "id": "97163b97-ce62-45ea-8aca-05b9057e4f72",
   "metadata": {},
   "outputs": [
    {
     "name": "stdout",
     "output_type": "stream",
     "text": [
      "Accuracy is  87.2\n"
     ]
    }
   ],
   "source": [
    "import xgboost as xgb\n",
    "\n",
    "X_train = train_df.drop('Transported', axis=1)\n",
    "Y_train = train_df['Transported']\n",
    "X_test = test_df.values\n",
    "\n",
    "gbm = xgb.XGBClassifier(\n",
    "    #learning_rate = 0.02,\n",
    " n_estimators= 2000,\n",
    " max_depth= 4,\n",
    " min_child_weight= 2,\n",
    " #gamma=1,\n",
    " gamma=0.9,                        \n",
    " subsample=0.8,\n",
    " colsample_bytree=0.8,\n",
    " objective= 'binary:logistic',\n",
    " nthread= -1,\n",
    " scale_pos_weight=1).fit(X_train, Y_train)\n",
    "xgb_predictions = gbm.predict(X_test)\n",
    "\n",
    "acc_random_forest = round(rf.score(X_train, Y_train) * 100, 2)\n",
    "acc_random_forest\n",
    "\n",
    "print(\"Accuracy is \", acc_random_forest)\n"
   ]
  },
  {
   "cell_type": "code",
   "execution_count": null,
   "id": "1e1bca3c-717e-435b-ac56-aad4b6c5b722",
   "metadata": {},
   "outputs": [],
   "source": []
  }
 ],
 "metadata": {
  "kernelspec": {
   "display_name": "Python 3 (ipykernel)",
   "language": "python",
   "name": "python3"
  },
  "language_info": {
   "codemirror_mode": {
    "name": "ipython",
    "version": 3
   },
   "file_extension": ".py",
   "mimetype": "text/x-python",
   "name": "python",
   "nbconvert_exporter": "python",
   "pygments_lexer": "ipython3",
   "version": "3.11.0"
  }
 },
 "nbformat": 4,
 "nbformat_minor": 5
}
