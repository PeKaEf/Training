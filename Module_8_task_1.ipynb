{
 "cells": [
  {
   "cell_type": "code",
   "execution_count": 3,
   "id": "8007cd84-8164-47d9-9375-b4de36fd5caa",
   "metadata": {},
   "outputs": [
    {
     "name": "stdout",
     "output_type": "stream",
     "text": [
      "Na liście znajduje się 47 pojedynczych artystów.\n",
      "Najczęściej na liście pojawia się zespoły Coldplay i Take That.\n",
      "Najwięcej albumów wyszło w roku 1987.\n",
      "Między 1960 a 1990 r. włącznie wydano 22 albumów.\n",
      "Najmłodszy album wydano w 2015 roku.\n"
     ]
    }
   ],
   "source": [
    "import pandas as pd\n",
    "\n",
    "data = pd.read_html('https://www.officialcharts.com/chart-news/the-best-selling-albums-of-all-time-on-the-official-uk-chart__15551/', header=0)\n",
    "\n",
    "data[0].rename(columns={'TITLE':'TYTUŁ', 'ARTIST':'ARTYSTA', 'YEAR':'ROK','HIGH POSN':'MAX POZ'},inplace=True)\n",
    "\n",
    "data[0]['ARTYSTA'].nunique()\n",
    "\n",
    "print(\"Na liście znajduje się {} pojedynczych artystów.\".format(data[0]['ARTYSTA'].nunique()))\n",
    "\n",
    "data[0]['ARTYSTA'].value_counts()\n",
    "\n",
    "print(\"Najczęściej na liście pojawia się zespoły Coldplay i Take That.\")\n",
    "\n",
    "data[0].rename(columns=str.title,inplace=True)\n",
    "\n",
    "data[0].drop('Max Poz', axis=1, inplace=True)\n",
    "\n",
    "data[0].head()\n",
    "\n",
    "data[0].groupby('Rok').count().nlargest(1,'Tytuł')\n",
    "\n",
    "print(\"Najwięcej albumów wyszło w roku 1987.\")\n",
    "\n",
    "data_query=data[0].loc[data[0]['Rok']>1960]\n",
    "data_query=data[0].loc[data[0]['Rok']<1991]\n",
    "\n",
    "data_query.groupby('Rok').count().sum()\n",
    "\n",
    "print(\"Między 1960 a 1990 r. włącznie wydano 22 albumów.\")\n",
    "\n",
    "print(\"Najmłodszy album wydano w {} roku.\".format(data[0]['Rok'].max()))\n",
    "\n",
    "df=data[0].groupby('Artysta').min()\n",
    "\n",
    "list = []\n",
    "\n",
    "df.drop(columns=('Pos'),inplace=True)\n",
    "\n",
    "artist = ['ABBA','ADELE','ALANIS MORISSETTE','AMY WINEHOUSE','BEATLES','BOB MARLEY & THE WAILERS','COLDPLAY','CORRS','DAVID GRAY','DIDO','DIRE STRAITS','ED SHEERAN','EMINEM','FLEETWOOD MAC','GEORGE MICHAEL','JAMES BLUNT','JEFF WAYNE','KEANE','KINGS OF LEON',\\\n",
    "         'LADY GAGA','LEONA LEWIS','MADONNA','MEAT LOAF','MICHAEL BUBLE','MICHAEL JACKSON','MIKE OLDFIELD','NORAH JONES','OASIS','ORIGINAL CAST RECORDING','ORIGINAL SOUNDTRACK','PAUL SIMON','PHIL COLLINS','PINK FLOYD','QUEEN','REM','ROBBIE WILLIAMS',\\\n",
    "        'SCISSOR SISTERS','SHANIA TWAIN','SIMON & GARFUNKEL','SIMPLY RED','SNOW PATROL','SPICE GIRLS','TAKE THAT','TRACY CHAPMAN','TRAVIS','U2','VERVE']\n",
    "\n",
    "df['Artysta']=artist\n",
    "\n",
    "list = df.values.tolist()\n",
    "\n",
    "list_to_df = pd.DataFrame(list)\n",
    "\n",
    "list_to_df.to_csv(\"C:/Users/pfali/Downloads/Modules/Module_8_task_1.csv\")"
   ]
  },
  {
   "cell_type": "code",
   "execution_count": null,
   "id": "43637f1d-8342-443f-beb7-097989e253c3",
   "metadata": {},
   "outputs": [],
   "source": []
  },
  {
   "cell_type": "code",
   "execution_count": null,
   "id": "8d7a8d37-b1b3-49db-b5fe-de45aa21bbfb",
   "metadata": {},
   "outputs": [],
   "source": []
  }
 ],
 "metadata": {
  "kernelspec": {
   "display_name": "Python 3 (ipykernel)",
   "language": "python",
   "name": "python3"
  },
  "language_info": {
   "codemirror_mode": {
    "name": "ipython",
    "version": 3
   },
   "file_extension": ".py",
   "mimetype": "text/x-python",
   "name": "python",
   "nbconvert_exporter": "python",
   "pygments_lexer": "ipython3",
   "version": "3.11.0"
  }
 },
 "nbformat": 4,
 "nbformat_minor": 5
}
