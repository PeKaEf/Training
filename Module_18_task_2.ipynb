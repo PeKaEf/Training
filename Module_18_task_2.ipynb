{
 "cells": [
  {
   "cell_type": "code",
   "execution_count": 1,
   "id": "d48a3ab7-a9ae-428e-bb1d-e6d64b650f32",
   "metadata": {},
   "outputs": [],
   "source": [
    "import numpy as np\n",
    "import tensorflow as tf\n",
    "\n",
    "train, test = tf.keras.datasets.fashion_mnist.load_data()\n",
    "\n",
    "# wydobycie obrazów oraz labelek\n",
    "images, labels = train\n",
    "\n",
    "# normalizacja wartości pikseli (maks. wartość\n",
    "# wynosi 255.0, czyli aby znormalizować nasze dane,\n",
    "# musimy podzielić każdy piksel przez maks. wartość)\n",
    "images = images/255.0\n",
    "\n",
    "# zapisujemy dane jako int\n",
    "labels = labels.astype(np.int32)\n",
    "\n",
    "from sklearn.model_selection import train_test_split\n",
    "\n",
    "X_train, X_test, y_train, y_test = \\\n",
    "    train_test_split(images, labels, test_size=0.1,random_state=10,stratify=labels)\n",
    "\n",
    "# stworzenie zbioru typu Dataset z naszej listy\n",
    "train_ds = tf.data.Dataset.from_tensor_slices((X_train, y_train))\n",
    "\n",
    "# ustawienie batch_size na 32 oraz przetasowanie na bazie 1000 próbek\n",
    "train_ds = train_ds.shuffle(1000).batch(32)\n",
    "\n"
   ]
  },
  {
   "cell_type": "code",
   "execution_count": 2,
   "id": "1dd0bd37-4a69-4287-b590-219bcd373cdd",
   "metadata": {},
   "outputs": [],
   "source": [
    "import tensorflow.keras.layers as layers\n",
    "f_mnist_model = tf.keras.Sequential([\n",
    "    # spłaszczanie obrazka do wektora jednowymiarowego\n",
    "    layers.Flatten(),\n",
    "    layers.Dense(1200, activation='relu'),\n",
    "    layers.Dense(600, activation='relu'),\n",
    "    layers.Dense(300, activation='relu'),\n",
    "    layers.Dense(150, activation='relu'),\n",
    "\n",
    "    # ostatnia warstwa posiada tyle neuronów ile mamy klas\n",
    "    layers.Dense(10, activation='softmax')\n",
    "])\n"
   ]
  },
  {
   "cell_type": "code",
   "execution_count": 3,
   "id": "359ca6b2-2661-48b9-b7f1-77ec2ea58322",
   "metadata": {},
   "outputs": [],
   "source": [
    "f_mnist_model.compile(\n",
    "    loss='sparse_categorical_crossentropy',\n",
    "    optimizer='adam',\n",
    "    metrics=['accuracy']\n",
    ")\n"
   ]
  },
  {
   "cell_type": "code",
   "execution_count": 4,
   "id": "296e8367-c019-4eed-9a2e-d7bc26d5a678",
   "metadata": {},
   "outputs": [
    {
     "name": "stdout",
     "output_type": "stream",
     "text": [
      "Epoch 1/25\n",
      "1688/1688 [==============================] - 47s 27ms/step - loss: 0.4999 - accuracy: 0.8193\n",
      "Epoch 2/25\n",
      "1688/1688 [==============================] - 42s 25ms/step - loss: 0.3844 - accuracy: 0.8615\n",
      "Epoch 3/25\n",
      "1688/1688 [==============================] - 39s 23ms/step - loss: 0.3423 - accuracy: 0.8742\n",
      "Epoch 4/25\n",
      "1688/1688 [==============================] - 39s 23ms/step - loss: 0.3171 - accuracy: 0.8841\n",
      "Epoch 5/25\n",
      "1688/1688 [==============================] - 47s 28ms/step - loss: 0.2974 - accuracy: 0.8906\n",
      "Epoch 6/25\n",
      "1688/1688 [==============================] - 48s 28ms/step - loss: 0.2818 - accuracy: 0.8954\n",
      "Epoch 7/25\n",
      "1688/1688 [==============================] - 48s 28ms/step - loss: 0.2706 - accuracy: 0.9009\n",
      "Epoch 8/25\n",
      "1688/1688 [==============================] - 47s 28ms/step - loss: 0.2572 - accuracy: 0.9049\n",
      "Epoch 9/25\n",
      "1688/1688 [==============================] - 47s 28ms/step - loss: 0.2464 - accuracy: 0.9089\n",
      "Epoch 10/25\n",
      "1688/1688 [==============================] - 44s 26ms/step - loss: 0.2342 - accuracy: 0.9116\n",
      "Epoch 11/25\n",
      "1688/1688 [==============================] - 37s 22ms/step - loss: 0.2262 - accuracy: 0.9155\n",
      "Epoch 12/25\n",
      "1688/1688 [==============================] - 38s 23ms/step - loss: 0.2219 - accuracy: 0.9176\n",
      "Epoch 13/25\n",
      "1688/1688 [==============================] - 41s 24ms/step - loss: 0.2132 - accuracy: 0.9189\n",
      "Epoch 14/25\n",
      "1688/1688 [==============================] - 39s 23ms/step - loss: 0.2036 - accuracy: 0.9224\n",
      "Epoch 15/25\n",
      "1688/1688 [==============================] - 42s 25ms/step - loss: 0.2009 - accuracy: 0.9231\n",
      "Epoch 16/25\n",
      "1688/1688 [==============================] - 40s 24ms/step - loss: 0.1955 - accuracy: 0.9260\n",
      "Epoch 17/25\n",
      "1688/1688 [==============================] - 39s 23ms/step - loss: 0.1858 - accuracy: 0.9303\n",
      "Epoch 18/25\n",
      "1688/1688 [==============================] - 41s 24ms/step - loss: 0.1805 - accuracy: 0.9305\n",
      "Epoch 19/25\n",
      "1688/1688 [==============================] - 41s 24ms/step - loss: 0.1781 - accuracy: 0.9316\n",
      "Epoch 20/25\n",
      "1688/1688 [==============================] - 40s 24ms/step - loss: 0.1763 - accuracy: 0.9340\n",
      "Epoch 21/25\n",
      "1688/1688 [==============================] - 41s 24ms/step - loss: 0.1737 - accuracy: 0.9352\n",
      "Epoch 22/25\n",
      "1688/1688 [==============================] - 42s 25ms/step - loss: 0.1662 - accuracy: 0.9370\n",
      "Epoch 23/25\n",
      "1688/1688 [==============================] - 41s 24ms/step - loss: 0.1661 - accuracy: 0.9375\n",
      "Epoch 24/25\n",
      "1688/1688 [==============================] - 39s 23ms/step - loss: 0.1557 - accuracy: 0.9398\n",
      "Epoch 25/25\n",
      "1688/1688 [==============================] - 39s 23ms/step - loss: 0.1514 - accuracy: 0.9422\n"
     ]
    }
   ],
   "source": [
    "train_stats = f_mnist_model.fit(train_ds, epochs=25, verbose=1)"
   ]
  },
  {
   "cell_type": "code",
   "execution_count": 5,
   "id": "62e702c2-5415-4c2d-96b3-8558cd007b11",
   "metadata": {},
   "outputs": [
    {
     "data": {
      "image/png": "[encoded data removed]",
      "text/plain": [
       "<Figure size 800x500 with 1 Axes>"
      ]
     },
     "metadata": {},
     "output_type": "display_data"
    }
   ],
   "source": [
    "import pandas as pd\n",
    "import matplotlib.pyplot as plt\n",
    "\n",
    "pd.DataFrame(train_stats.history).plot(figsize=(8, 5))\n",
    "plt.grid(True)\n",
    "plt.gca().set_ylim(0, 1)\n",
    "plt.show()\n"
   ]
  },
  {
   "cell_type": "code",
   "execution_count": 6,
   "id": "d2b1127d-7cf2-4f0f-a89f-59d56e68ca9c",
   "metadata": {},
   "outputs": [],
   "source": [
    "import albumentations as A\n",
    "transform = A.Compose([\n",
    "    A.RandomCrop(width=28, height=28),\n",
    "    A.HorizontalFlip(p=0.5),\n",
    "    A.RandomBrightnessContrast(p=0.2),\n",
    "])\n",
    "transformed = transform(image=images)\n",
    "transformed_image = transformed[\"image\"]"
   ]
  },
  {
   "cell_type": "code",
   "execution_count": 7,
   "id": "f6a184d0-ac40-4929-aff4-b438298a8210",
   "metadata": {},
   "outputs": [
    {
     "name": "stdout",
     "output_type": "stream",
     "text": [
      "INFO:tensorflow:Assets written to: f_mnist_model\\assets\n"
     ]
    },
    {
     "name": "stderr",
     "output_type": "stream",
     "text": [
      "INFO:tensorflow:Assets written to: f_mnist_model\\assets\n"
     ]
    }
   ],
   "source": [
    "f_mnist_model.save(\"f_mnist_model\",save_format=\"tf\")"
   ]
  },
  {
   "cell_type": "code",
   "execution_count": null,
   "id": "79392dfa-031f-411e-a493-33bf3f9d6a15",
   "metadata": {},
   "outputs": [],
   "source": []
  }
 ],
 "metadata": {
  "kernelspec": {
   "display_name": "Python 3 (ipykernel)",
   "language": "python",
   "name": "python3"
  },
  "language_info": {
   "codemirror_mode": {
    "name": "ipython",
    "version": 3
   },
   "file_extension": ".py",
   "mimetype": "text/x-python",
   "name": "python",
   "nbconvert_exporter": "python",
   "pygments_lexer": "ipython3",
   "version": "3.11.0"
  }
 },
 "nbformat": 4,
 "nbformat_minor": 5
}
