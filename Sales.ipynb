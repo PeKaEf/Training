{
 "cells": [
  {
   "cell_type": "code",
   "execution_count": 1,
   "id": "578cee4e-af5e-4581-a656-a151bfa1f706",
   "metadata": {},
   "outputs": [
    {
     "data": {
      "text/html": [
       "<div>\n",
       "<style scoped>\n",
       "    .dataframe tbody tr th:only-of-type {\n",
       "        vertical-align: middle;\n",
       "    }\n",
       "\n",
       "    .dataframe tbody tr th {\n",
       "        vertical-align: top;\n",
       "    }\n",
       "\n",
       "    .dataframe thead th {\n",
       "        text-align: right;\n",
       "    }\n",
       "</style>\n",
       "<table border=\"1\" class=\"dataframe\">\n",
       "  <thead>\n",
       "    <tr style=\"text-align: right;\">\n",
       "      <th></th>\n",
       "      <th>id</th>\n",
       "      <th>date</th>\n",
       "      <th>country</th>\n",
       "      <th>store</th>\n",
       "      <th>product</th>\n",
       "      <th>num_sold</th>\n",
       "    </tr>\n",
       "  </thead>\n",
       "  <tbody>\n",
       "    <tr>\n",
       "      <th>count</th>\n",
       "      <td>136950.00000</td>\n",
       "      <td>136950</td>\n",
       "      <td>136950</td>\n",
       "      <td>136950</td>\n",
       "      <td>136950</td>\n",
       "      <td>136950.000000</td>\n",
       "    </tr>\n",
       "    <tr>\n",
       "      <th>unique</th>\n",
       "      <td>NaN</td>\n",
       "      <td>1826</td>\n",
       "      <td>5</td>\n",
       "      <td>3</td>\n",
       "      <td>5</td>\n",
       "      <td>NaN</td>\n",
       "    </tr>\n",
       "    <tr>\n",
       "      <th>top</th>\n",
       "      <td>NaN</td>\n",
       "      <td>2017-01-01</td>\n",
       "      <td>Argentina</td>\n",
       "      <td>Kaggle Learn</td>\n",
       "      <td>Using LLMs to Improve Your Coding</td>\n",
       "      <td>NaN</td>\n",
       "    </tr>\n",
       "    <tr>\n",
       "      <th>freq</th>\n",
       "      <td>NaN</td>\n",
       "      <td>75</td>\n",
       "      <td>27390</td>\n",
       "      <td>45650</td>\n",
       "      <td>27390</td>\n",
       "      <td>NaN</td>\n",
       "    </tr>\n",
       "    <tr>\n",
       "      <th>mean</th>\n",
       "      <td>68474.50000</td>\n",
       "      <td>NaN</td>\n",
       "      <td>NaN</td>\n",
       "      <td>NaN</td>\n",
       "      <td>NaN</td>\n",
       "      <td>165.522636</td>\n",
       "    </tr>\n",
       "    <tr>\n",
       "      <th>std</th>\n",
       "      <td>39534.20402</td>\n",
       "      <td>NaN</td>\n",
       "      <td>NaN</td>\n",
       "      <td>NaN</td>\n",
       "      <td>NaN</td>\n",
       "      <td>183.691575</td>\n",
       "    </tr>\n",
       "    <tr>\n",
       "      <th>min</th>\n",
       "      <td>0.00000</td>\n",
       "      <td>NaN</td>\n",
       "      <td>NaN</td>\n",
       "      <td>NaN</td>\n",
       "      <td>NaN</td>\n",
       "      <td>2.000000</td>\n",
       "    </tr>\n",
       "    <tr>\n",
       "      <th>25%</th>\n",
       "      <td>34237.25000</td>\n",
       "      <td>NaN</td>\n",
       "      <td>NaN</td>\n",
       "      <td>NaN</td>\n",
       "      <td>NaN</td>\n",
       "      <td>46.000000</td>\n",
       "    </tr>\n",
       "    <tr>\n",
       "      <th>50%</th>\n",
       "      <td>68474.50000</td>\n",
       "      <td>NaN</td>\n",
       "      <td>NaN</td>\n",
       "      <td>NaN</td>\n",
       "      <td>NaN</td>\n",
       "      <td>98.000000</td>\n",
       "    </tr>\n",
       "    <tr>\n",
       "      <th>75%</th>\n",
       "      <td>102711.75000</td>\n",
       "      <td>NaN</td>\n",
       "      <td>NaN</td>\n",
       "      <td>NaN</td>\n",
       "      <td>NaN</td>\n",
       "      <td>184.000000</td>\n",
       "    </tr>\n",
       "    <tr>\n",
       "      <th>max</th>\n",
       "      <td>136949.00000</td>\n",
       "      <td>NaN</td>\n",
       "      <td>NaN</td>\n",
       "      <td>NaN</td>\n",
       "      <td>NaN</td>\n",
       "      <td>1380.000000</td>\n",
       "    </tr>\n",
       "  </tbody>\n",
       "</table>\n",
       "</div>"
      ],
      "text/plain": [
       "                  id        date    country         store  \\\n",
       "count   136950.00000      136950     136950        136950   \n",
       "unique           NaN        1826          5             3   \n",
       "top              NaN  2017-01-01  Argentina  Kaggle Learn   \n",
       "freq             NaN          75      27390         45650   \n",
       "mean     68474.50000         NaN        NaN           NaN   \n",
       "std      39534.20402         NaN        NaN           NaN   \n",
       "min          0.00000         NaN        NaN           NaN   \n",
       "25%      34237.25000         NaN        NaN           NaN   \n",
       "50%      68474.50000         NaN        NaN           NaN   \n",
       "75%     102711.75000         NaN        NaN           NaN   \n",
       "max     136949.00000         NaN        NaN           NaN   \n",
       "\n",
       "                                  product       num_sold  \n",
       "count                              136950  136950.000000  \n",
       "unique                                  5            NaN  \n",
       "top     Using LLMs to Improve Your Coding            NaN  \n",
       "freq                                27390            NaN  \n",
       "mean                                  NaN     165.522636  \n",
       "std                                   NaN     183.691575  \n",
       "min                                   NaN       2.000000  \n",
       "25%                                   NaN      46.000000  \n",
       "50%                                   NaN      98.000000  \n",
       "75%                                   NaN     184.000000  \n",
       "max                                   NaN    1380.000000  "
      ]
     },
     "execution_count": 1,
     "metadata": {},
     "output_type": "execute_result"
    }
   ],
   "source": [
    "import pandas as pd\n",
    "\n",
    "import numpy as np\n",
    "\n",
    "import sklearn\n",
    "\n",
    "import holidays\n",
    "\n",
    "import seaborn as sns\n",
    "\n",
    "import lazypredict\n",
    "\n",
    "train_df = pd.read_csv(\"C:/Users/pfali/Downloads/playground-series-s3e19/train.csv\")\n",
    "test_df = pd.read_csv(\"C:/Users/pfali/Downloads/playground-series-s3e19/test.csv\")\n",
    "\n",
    "#preview data\n",
    "train_df.head()\n",
    "\n",
    "train_df.describe(include='all')"
   ]
  },
  {
   "cell_type": "code",
   "execution_count": 2,
   "id": "9855a79a-adc4-49ad-8d8b-bd42b9593365",
   "metadata": {},
   "outputs": [
    {
     "name": "stdout",
     "output_type": "stream",
     "text": [
      "<class 'pandas.core.frame.DataFrame'>\n",
      "RangeIndex: 136950 entries, 0 to 136949\n",
      "Data columns (total 6 columns):\n",
      " #   Column    Non-Null Count   Dtype \n",
      "---  ------    --------------   ----- \n",
      " 0   id        136950 non-null  int64 \n",
      " 1   date      136950 non-null  object\n",
      " 2   country   136950 non-null  object\n",
      " 3   store     136950 non-null  object\n",
      " 4   product   136950 non-null  object\n",
      " 5   num_sold  136950 non-null  int64 \n",
      "dtypes: int64(2), object(4)\n",
      "memory usage: 6.3+ MB\n"
     ]
    }
   ],
   "source": [
    "train_df.info()"
   ]
  },
  {
   "cell_type": "code",
   "execution_count": 3,
   "id": "dbfb6dc7-91cb-4b03-b539-94b4086d91bb",
   "metadata": {},
   "outputs": [],
   "source": [
    "#There are 136950 IDs of transactions done within 5 countries in 3 stores. 5 unique products were bought. No missing values.\n",
    "#Data types:\n",
    "#-\tId – numerical feature\n",
    "#-\tDate – categorical feature\n",
    "#-\tCountry – categorical feature\n",
    "#-\tStore – categorical feature\n",
    "#-\tProduct – categorical feature\n",
    "#-\tNum_sold – numerical feature (target)\n",
    "\n",
    "#We will convert Country, Store and Product into numerical features. Date includes five years from 2017 to 2021. It should be determined whether the weekday or holiday correlate with the number of sold products. To do this, new features Workday, Weekend, Is_holiday will be created.\n"
   ]
  },
  {
   "cell_type": "code",
   "execution_count": 4,
   "id": "7f0e9dd0-760d-43a1-aee3-c4494be44b68",
   "metadata": {},
   "outputs": [
    {
     "data": {
      "text/html": [
       "<div>\n",
       "<style scoped>\n",
       "    .dataframe tbody tr th:only-of-type {\n",
       "        vertical-align: middle;\n",
       "    }\n",
       "\n",
       "    .dataframe tbody tr th {\n",
       "        vertical-align: top;\n",
       "    }\n",
       "\n",
       "    .dataframe thead th {\n",
       "        text-align: right;\n",
       "    }\n",
       "</style>\n",
       "<table border=\"1\" class=\"dataframe\">\n",
       "  <thead>\n",
       "    <tr style=\"text-align: right;\">\n",
       "      <th></th>\n",
       "      <th>id</th>\n",
       "      <th>date</th>\n",
       "      <th>country</th>\n",
       "      <th>store</th>\n",
       "      <th>product</th>\n",
       "      <th>num_sold</th>\n",
       "    </tr>\n",
       "  </thead>\n",
       "  <tbody>\n",
       "    <tr>\n",
       "      <th>0</th>\n",
       "      <td>0</td>\n",
       "      <td>2017-01-01</td>\n",
       "      <td>0</td>\n",
       "      <td>1</td>\n",
       "      <td>0</td>\n",
       "      <td>63</td>\n",
       "    </tr>\n",
       "    <tr>\n",
       "      <th>1</th>\n",
       "      <td>1</td>\n",
       "      <td>2017-01-01</td>\n",
       "      <td>0</td>\n",
       "      <td>1</td>\n",
       "      <td>1</td>\n",
       "      <td>66</td>\n",
       "    </tr>\n",
       "    <tr>\n",
       "      <th>2</th>\n",
       "      <td>2</td>\n",
       "      <td>2017-01-01</td>\n",
       "      <td>0</td>\n",
       "      <td>1</td>\n",
       "      <td>2</td>\n",
       "      <td>9</td>\n",
       "    </tr>\n",
       "    <tr>\n",
       "      <th>3</th>\n",
       "      <td>3</td>\n",
       "      <td>2017-01-01</td>\n",
       "      <td>0</td>\n",
       "      <td>1</td>\n",
       "      <td>3</td>\n",
       "      <td>59</td>\n",
       "    </tr>\n",
       "    <tr>\n",
       "      <th>4</th>\n",
       "      <td>4</td>\n",
       "      <td>2017-01-01</td>\n",
       "      <td>0</td>\n",
       "      <td>1</td>\n",
       "      <td>4</td>\n",
       "      <td>49</td>\n",
       "    </tr>\n",
       "  </tbody>\n",
       "</table>\n",
       "</div>"
      ],
      "text/plain": [
       "   id        date  country  store  product  num_sold\n",
       "0   0  2017-01-01        0      1        0        63\n",
       "1   1  2017-01-01        0      1        1        66\n",
       "2   2  2017-01-01        0      1        2         9\n",
       "3   3  2017-01-01        0      1        3        59\n",
       "4   4  2017-01-01        0      1        4        49"
      ]
     },
     "execution_count": 4,
     "metadata": {},
     "output_type": "execute_result"
    }
   ],
   "source": [
    "#convert Country, Store, Product to numerical features\n",
    "\n",
    "from sklearn import preprocessing\n",
    "\n",
    "le = preprocessing.LabelEncoder()\n",
    "train_df['country'] = le.fit_transform(train_df['country'])\n",
    "train_df['store'] = le.fit_transform(train_df['store'])\n",
    "train_df['product'] = le.fit_transform(train_df['product'])\n",
    "\n",
    "test_df['country'] = le.fit_transform(test_df['country'])\n",
    "test_df['store'] = le.fit_transform(test_df['store'])\n",
    "test_df['product'] = le.fit_transform(test_df['product'])\n",
    "\n",
    "train_df.head()\n",
    "                                       "
   ]
  },
  {
   "cell_type": "code",
   "execution_count": 5,
   "id": "526f0fcd-f1cb-4b24-bda9-f75e06ec3837",
   "metadata": {},
   "outputs": [
    {
     "data": {
      "text/html": [
       "<div>\n",
       "<style scoped>\n",
       "    .dataframe tbody tr th:only-of-type {\n",
       "        vertical-align: middle;\n",
       "    }\n",
       "\n",
       "    .dataframe tbody tr th {\n",
       "        vertical-align: top;\n",
       "    }\n",
       "\n",
       "    .dataframe thead th {\n",
       "        text-align: right;\n",
       "    }\n",
       "</style>\n",
       "<table border=\"1\" class=\"dataframe\">\n",
       "  <thead>\n",
       "    <tr style=\"text-align: right;\">\n",
       "      <th></th>\n",
       "      <th>id</th>\n",
       "      <th>date</th>\n",
       "      <th>country</th>\n",
       "      <th>store</th>\n",
       "      <th>product</th>\n",
       "      <th>num_sold</th>\n",
       "      <th>weekday</th>\n",
       "      <th>weekend</th>\n",
       "    </tr>\n",
       "  </thead>\n",
       "  <tbody>\n",
       "    <tr>\n",
       "      <th>0</th>\n",
       "      <td>0</td>\n",
       "      <td>2017-01-01</td>\n",
       "      <td>0</td>\n",
       "      <td>1</td>\n",
       "      <td>0</td>\n",
       "      <td>63</td>\n",
       "      <td>6</td>\n",
       "      <td>1</td>\n",
       "    </tr>\n",
       "    <tr>\n",
       "      <th>1</th>\n",
       "      <td>1</td>\n",
       "      <td>2017-01-01</td>\n",
       "      <td>0</td>\n",
       "      <td>1</td>\n",
       "      <td>1</td>\n",
       "      <td>66</td>\n",
       "      <td>6</td>\n",
       "      <td>1</td>\n",
       "    </tr>\n",
       "    <tr>\n",
       "      <th>2</th>\n",
       "      <td>2</td>\n",
       "      <td>2017-01-01</td>\n",
       "      <td>0</td>\n",
       "      <td>1</td>\n",
       "      <td>2</td>\n",
       "      <td>9</td>\n",
       "      <td>6</td>\n",
       "      <td>1</td>\n",
       "    </tr>\n",
       "    <tr>\n",
       "      <th>3</th>\n",
       "      <td>3</td>\n",
       "      <td>2017-01-01</td>\n",
       "      <td>0</td>\n",
       "      <td>1</td>\n",
       "      <td>3</td>\n",
       "      <td>59</td>\n",
       "      <td>6</td>\n",
       "      <td>1</td>\n",
       "    </tr>\n",
       "    <tr>\n",
       "      <th>4</th>\n",
       "      <td>4</td>\n",
       "      <td>2017-01-01</td>\n",
       "      <td>0</td>\n",
       "      <td>1</td>\n",
       "      <td>4</td>\n",
       "      <td>49</td>\n",
       "      <td>6</td>\n",
       "      <td>1</td>\n",
       "    </tr>\n",
       "  </tbody>\n",
       "</table>\n",
       "</div>"
      ],
      "text/plain": [
       "   id       date  country  store  product  num_sold  weekday  weekend\n",
       "0   0 2017-01-01        0      1        0        63        6        1\n",
       "1   1 2017-01-01        0      1        1        66        6        1\n",
       "2   2 2017-01-01        0      1        2         9        6        1\n",
       "3   3 2017-01-01        0      1        3        59        6        1\n",
       "4   4 2017-01-01        0      1        4        49        6        1"
      ]
     },
     "execution_count": 5,
     "metadata": {},
     "output_type": "execute_result"
    }
   ],
   "source": [
    "#convert Date to datetime and check the day of the week\n",
    "\n",
    "train_df['date'] = pd.to_datetime(train_df['date'])\n",
    "train_df['weekday'] = train_df['date'].dt.weekday\n",
    "train_df['weekend']=train_df['weekday']>=5\n",
    "\n",
    "test_df['date'] = pd.to_datetime(test_df['date'])\n",
    "test_df['weekday'] = test_df['date'].dt.weekday\n",
    "test_df['weekend']=test_df['weekday']>=5\n",
    "\n",
    "#convert Weekend to a numerical feature\n",
    "\n",
    "train_df['weekend']=le.fit_transform(train_df['weekend'])\n",
    "test_df['weekend']=le.fit_transform(test_df['weekend'])\n",
    "\n",
    "train_df.head()\n"
   ]
  },
  {
   "cell_type": "code",
   "execution_count": 6,
   "id": "fb21d94f-986a-4a67-9467-36e7e6b75483",
   "metadata": {},
   "outputs": [],
   "source": [
    "#check if Date was holiday\n",
    "\n",
    "train_df['date'] = pd.to_datetime(train_df['date'])\n",
    "test_df['date'] = pd.to_datetime(test_df['date'])\n",
    "\n",
    "train_df[\"year\"] = train_df[\"date\"].dt.year\n",
    "train_df[\"month\"] = train_df[\"date\"].dt.month\n",
    "train_df[\"day\"] = train_df[\"date\"].dt.day\n",
    "test_df[\"year\"] = test_df[\"date\"].dt.year\n",
    "test_df[\"month\"] = test_df[\"date\"].dt.month\n",
    "test_df[\"day\"] = test_df[\"date\"].dt.day\n",
    "\n",
    "years = train_df[\"year\"].unique().tolist()\n",
    "years = test_df[\"year\"].unique().tolist()\n",
    "\n",
    "holiday_A = holidays.CountryHoliday(\"AR\", years=years)\n",
    "holiday_C = holidays.CountryHoliday(\"CA\", years=years)\n",
    "holiday_E = holidays.CountryHoliday(\"EE\", years=years)\n",
    "holiday_J = holidays.CountryHoliday(\"JP\", years=years)\n",
    "holiday_S = holidays.CountryHoliday(\"ES\", years=years)\n",
    "\n",
    "holidays_df = pd.DataFrame(columns=['date', 'AR', 'CA', 'EE', 'JP', 'ES'])\n",
    "\n",
    "for date in pd.date_range(start='2017-01-01', end='2022-12-31'):\n",
    "    ar = 1 if date in holiday_A else 0\n",
    "    ca = 1 if date in holiday_C else 0\n",
    "    ee = 1 if date in holiday_E else 0\n",
    "    jp = 1 if date in holiday_J else 0\n",
    "    es = 1 if date in holiday_S else 0\n",
    "    \n",
    "    holidays_df.loc[len(holidays_df)] = {\"date\": date, \"AR\": ar, \"CA\": ca, \"EE\": ee, \"JP\": jp, \"ES\": es}\n",
    "\n",
    "train_df['is_holiday_A'] = train_df['date'].map(holidays_df.set_index('date')['AR']).astype(int)\n",
    "train_df['is_holiday_C'] = train_df['date'].map(holidays_df.set_index('date')['CA']).astype(int)\n",
    "train_df['is_holiday_E'] = train_df['date'].map(holidays_df.set_index('date')['EE']).astype(int)\n",
    "train_df['is_holiday_J'] = train_df['date'].map(holidays_df.set_index('date')['JP']).astype(int)\n",
    "train_df['is_holiday_S'] = train_df['date'].map(holidays_df.set_index('date')['ES']).astype(int)\n",
    "test_df['is_holiday_A'] = test_df['date'].map(holidays_df.set_index('date')['AR']).astype(int)\n",
    "test_df['is_holiday_C'] = test_df['date'].map(holidays_df.set_index('date')['CA']).astype(int)\n",
    "test_df['is_holiday_E'] = test_df['date'].map(holidays_df.set_index('date')['EE']).astype(int)\n",
    "test_df['is_holiday_J'] = test_df['date'].map(holidays_df.set_index('date')['JP']).astype(int)\n",
    "test_df['is_holiday_S'] = test_df['date'].map(holidays_df.set_index('date')['ES']).astype(int)\n",
    "\n"
   ]
  },
  {
   "cell_type": "code",
   "execution_count": 7,
   "id": "6e7b24b1-dfeb-400c-bd26-86caa704dbb4",
   "metadata": {},
   "outputs": [],
   "source": [
    "train_df = train_df.drop(columns=['date'])\n",
    "test_df = test_df.drop(columns=['date'])"
   ]
  },
  {
   "cell_type": "code",
   "execution_count": 8,
   "id": "5d58e2c1-1e1b-4bcb-a451-7a09fde50f7c",
   "metadata": {},
   "outputs": [
    {
     "data": {
      "text/plain": [
       "<Axes: xlabel='year', ylabel='num_sold'>"
      ]
     },
     "execution_count": 8,
     "metadata": {},
     "output_type": "execute_result"
    },
    {
     "data": {
      "image/png": "[encoded data removed]",
      "text/plain": [
       "<Figure size 640x480 with 1 Axes>"
      ]
     },
     "metadata": {},
     "output_type": "display_data"
    }
   ],
   "source": [
    "sns.barplot(x = 'year', y = 'num_sold', data=train_df)\n",
    "\n",
    "#although the num_sold in 2020 is lower than in other years, it doesn't seem reasonable to exclude this year, as it is ~ 20% of data"
   ]
  },
  {
   "cell_type": "code",
   "execution_count": 9,
   "id": "d9a1ed82-0ca1-4562-9855-6b908fdcd7ec",
   "metadata": {},
   "outputs": [
    {
     "data": {
      "text/plain": [
       "<Axes: xlabel='weekday', ylabel='num_sold'>"
      ]
     },
     "execution_count": 9,
     "metadata": {},
     "output_type": "execute_result"
    },
    {
     "data": {
      "image/png": "[encoded data removed]",
      "text/plain": [
       "<Figure size 640x480 with 1 Axes>"
      ]
     },
     "metadata": {},
     "output_type": "display_data"
    }
   ],
   "source": [
    "sns.barplot(x = 'weekday', y = 'num_sold', hue='product', data=train_df)\n",
    "\n",
    "#for all products the num_sold is correlated with the weekday, so it seems it was a good decision to create this feature"
   ]
  },
  {
   "cell_type": "code",
   "execution_count": 19,
   "id": "bee30d3b-27b2-4dd4-a936-bf7aaf160b10",
   "metadata": {},
   "outputs": [
    {
     "data": {
      "text/plain": [
       "<Axes: xlabel='is_holiday_A', ylabel='num_sold'>"
      ]
     },
     "execution_count": 19,
     "metadata": {},
     "output_type": "execute_result"
    },
    {
     "data": {
      "image/png": "[encoded data removed]",
      "text/plain": [
       "<Figure size 640x480 with 1 Axes>"
      ]
     },
     "metadata": {},
     "output_type": "display_data"
    }
   ],
   "source": [
    "sns.barplot(x = 'is_holiday_A', y = 'num_sold', hue='product', data=train_df)\n"
   ]
  },
  {
   "cell_type": "code",
   "execution_count": 20,
   "id": "6c59387b-28f5-4ac5-9080-cad36fe8d335",
   "metadata": {},
   "outputs": [
    {
     "data": {
      "text/plain": [
       "<Axes: xlabel='is_holiday_C', ylabel='num_sold'>"
      ]
     },
     "execution_count": 20,
     "metadata": {},
     "output_type": "execute_result"
    },
    {
     "data": {
      "image/png": "[encoded data removed]",
      "text/plain": [
       "<Figure size 640x480 with 1 Axes>"
      ]
     },
     "metadata": {},
     "output_type": "display_data"
    }
   ],
   "source": [
    "sns.barplot(x = 'is_holiday_C', y = 'num_sold', hue='product', data=train_df)"
   ]
  },
  {
   "cell_type": "code",
   "execution_count": 21,
   "id": "6b866fc8-7b7e-46a3-a99f-8d220f62f890",
   "metadata": {},
   "outputs": [
    {
     "data": {
      "text/plain": [
       "<Axes: xlabel='is_holiday_E', ylabel='num_sold'>"
      ]
     },
     "execution_count": 21,
     "metadata": {},
     "output_type": "execute_result"
    },
    {
     "data": {
      "image/png": "[encoded data removed]",
      "text/plain": [
       "<Figure size 640x480 with 1 Axes>"
      ]
     },
     "metadata": {},
     "output_type": "display_data"
    }
   ],
   "source": [
    "sns.barplot(x = 'is_holiday_E', y = 'num_sold', hue='product', data=train_df)"
   ]
  },
  {
   "cell_type": "code",
   "execution_count": 22,
   "id": "a0c42d59-5155-4341-ac6e-6ab7d9e7267b",
   "metadata": {},
   "outputs": [
    {
     "data": {
      "text/plain": [
       "<Axes: xlabel='is_holiday_J', ylabel='num_sold'>"
      ]
     },
     "execution_count": 22,
     "metadata": {},
     "output_type": "execute_result"
    },
    {
     "data": {
      "image/png": "[encoded data removed]",
      "text/plain": [
       "<Figure size 640x480 with 1 Axes>"
      ]
     },
     "metadata": {},
     "output_type": "display_data"
    }
   ],
   "source": [
    "sns.barplot(x = 'is_holiday_J', y = 'num_sold', hue='product', data=train_df)"
   ]
  },
  {
   "cell_type": "code",
   "execution_count": 23,
   "id": "f1f94e21-a0a4-4193-bfcd-0a76f7e18117",
   "metadata": {},
   "outputs": [
    {
     "data": {
      "text/plain": [
       "<Axes: xlabel='is_holiday_S', ylabel='num_sold'>"
      ]
     },
     "execution_count": 23,
     "metadata": {},
     "output_type": "execute_result"
    },
    {
     "data": {
      "image/png": "[encoded data removed]",
      "text/plain": [
       "<Figure size 640x480 with 1 Axes>"
      ]
     },
     "metadata": {},
     "output_type": "display_data"
    }
   ],
   "source": [
    "sns.barplot(x = 'is_holiday_S', y = 'num_sold', hue='product', data=train_df)\n",
    "\n",
    "#all the plots show that holidays affect the num_sold, so creating Is_Holiday features was reasonable"
   ]
  },
  {
   "cell_type": "code",
   "execution_count": 10,
   "id": "96ad7e15-37db-4978-99bd-16946a3fbb5d",
   "metadata": {},
   "outputs": [
    {
     "data": {
      "text/html": [
       "<div>\n",
       "<style scoped>\n",
       "    .dataframe tbody tr th:only-of-type {\n",
       "        vertical-align: middle;\n",
       "    }\n",
       "\n",
       "    .dataframe tbody tr th {\n",
       "        vertical-align: top;\n",
       "    }\n",
       "\n",
       "    .dataframe thead th {\n",
       "        text-align: right;\n",
       "    }\n",
       "</style>\n",
       "<table border=\"1\" class=\"dataframe\">\n",
       "  <thead>\n",
       "    <tr style=\"text-align: right;\">\n",
       "      <th></th>\n",
       "      <th>id</th>\n",
       "      <th>country</th>\n",
       "      <th>store</th>\n",
       "      <th>product</th>\n",
       "      <th>num_sold</th>\n",
       "      <th>weekday</th>\n",
       "      <th>weekend</th>\n",
       "      <th>year</th>\n",
       "      <th>month</th>\n",
       "      <th>day</th>\n",
       "      <th>is_holiday_A</th>\n",
       "      <th>is_holiday_C</th>\n",
       "      <th>is_holiday_E</th>\n",
       "      <th>is_holiday_J</th>\n",
       "      <th>is_holiday_S</th>\n",
       "    </tr>\n",
       "  </thead>\n",
       "  <tbody>\n",
       "    <tr>\n",
       "      <th>0</th>\n",
       "      <td>0</td>\n",
       "      <td>0</td>\n",
       "      <td>1</td>\n",
       "      <td>0</td>\n",
       "      <td>63</td>\n",
       "      <td>6</td>\n",
       "      <td>1</td>\n",
       "      <td>2017</td>\n",
       "      <td>1</td>\n",
       "      <td>1</td>\n",
       "      <td>1</td>\n",
       "      <td>1</td>\n",
       "      <td>1</td>\n",
       "      <td>1</td>\n",
       "      <td>0</td>\n",
       "    </tr>\n",
       "    <tr>\n",
       "      <th>1</th>\n",
       "      <td>1</td>\n",
       "      <td>0</td>\n",
       "      <td>1</td>\n",
       "      <td>1</td>\n",
       "      <td>66</td>\n",
       "      <td>6</td>\n",
       "      <td>1</td>\n",
       "      <td>2017</td>\n",
       "      <td>1</td>\n",
       "      <td>1</td>\n",
       "      <td>1</td>\n",
       "      <td>1</td>\n",
       "      <td>1</td>\n",
       "      <td>1</td>\n",
       "      <td>0</td>\n",
       "    </tr>\n",
       "    <tr>\n",
       "      <th>2</th>\n",
       "      <td>2</td>\n",
       "      <td>0</td>\n",
       "      <td>1</td>\n",
       "      <td>2</td>\n",
       "      <td>9</td>\n",
       "      <td>6</td>\n",
       "      <td>1</td>\n",
       "      <td>2017</td>\n",
       "      <td>1</td>\n",
       "      <td>1</td>\n",
       "      <td>1</td>\n",
       "      <td>1</td>\n",
       "      <td>1</td>\n",
       "      <td>1</td>\n",
       "      <td>0</td>\n",
       "    </tr>\n",
       "    <tr>\n",
       "      <th>3</th>\n",
       "      <td>3</td>\n",
       "      <td>0</td>\n",
       "      <td>1</td>\n",
       "      <td>3</td>\n",
       "      <td>59</td>\n",
       "      <td>6</td>\n",
       "      <td>1</td>\n",
       "      <td>2017</td>\n",
       "      <td>1</td>\n",
       "      <td>1</td>\n",
       "      <td>1</td>\n",
       "      <td>1</td>\n",
       "      <td>1</td>\n",
       "      <td>1</td>\n",
       "      <td>0</td>\n",
       "    </tr>\n",
       "    <tr>\n",
       "      <th>4</th>\n",
       "      <td>4</td>\n",
       "      <td>0</td>\n",
       "      <td>1</td>\n",
       "      <td>4</td>\n",
       "      <td>49</td>\n",
       "      <td>6</td>\n",
       "      <td>1</td>\n",
       "      <td>2017</td>\n",
       "      <td>1</td>\n",
       "      <td>1</td>\n",
       "      <td>1</td>\n",
       "      <td>1</td>\n",
       "      <td>1</td>\n",
       "      <td>1</td>\n",
       "      <td>0</td>\n",
       "    </tr>\n",
       "  </tbody>\n",
       "</table>\n",
       "</div>"
      ],
      "text/plain": [
       "   id  country  store  product  num_sold  weekday  weekend  year  month  day  \\\n",
       "0   0        0      1        0        63        6        1  2017      1    1   \n",
       "1   1        0      1        1        66        6        1  2017      1    1   \n",
       "2   2        0      1        2         9        6        1  2017      1    1   \n",
       "3   3        0      1        3        59        6        1  2017      1    1   \n",
       "4   4        0      1        4        49        6        1  2017      1    1   \n",
       "\n",
       "   is_holiday_A  is_holiday_C  is_holiday_E  is_holiday_J  is_holiday_S  \n",
       "0             1             1             1             1             0  \n",
       "1             1             1             1             1             0  \n",
       "2             1             1             1             1             0  \n",
       "3             1             1             1             1             0  \n",
       "4             1             1             1             1             0  "
      ]
     },
     "execution_count": 10,
     "metadata": {},
     "output_type": "execute_result"
    }
   ],
   "source": [
    "train_df.head()"
   ]
  },
  {
   "cell_type": "code",
   "execution_count": 11,
   "id": "a0bcf6bd-d2ba-4ff2-bb83-ab010df1f1d4",
   "metadata": {},
   "outputs": [],
   "source": [
    "#split train data into train set and validation set\n",
    "\n",
    "from sklearn.model_selection import train_test_split\n",
    "\n",
    "X = train_df.drop([\"num_sold\"], axis = 1)\n",
    "y = train_df[\"num_sold\"]\n",
    "\n",
    "X_train, X_test, y_train, y_test = train_test_split(X, y, test_size=0.25, random_state=0)\n"
   ]
  },
  {
   "cell_type": "code",
   "execution_count": 13,
   "id": "267f0dcb-6e87-444e-9354-f08b77cf1abe",
   "metadata": {},
   "outputs": [
    {
     "name": "stderr",
     "output_type": "stream",
     "text": [
      " 24%|███████████████████▌                                                              | 10/42 [01:43<09:07, 17.12s/it]"
     ]
    },
    {
     "name": "stdout",
     "output_type": "stream",
     "text": [
      "GaussianProcessRegressor model failed to execute\n",
      "Unable to allocate 78.6 GiB for an array with shape (102712, 102712) and data type float64\n"
     ]
    },
    {
     "name": "stderr",
     "output_type": "stream",
     "text": [
      " 40%|█████████████████████████████████▏                                                | 17/42 [03:01<04:58, 11.94s/it]"
     ]
    },
    {
     "name": "stdout",
     "output_type": "stream",
     "text": [
      "KernelRidge model failed to execute\n",
      "Unable to allocate 78.6 GiB for an array with shape (102712, 102712) and data type float64\n"
     ]
    },
    {
     "name": "stderr",
     "output_type": "stream",
     "text": [
      " 74%|████████████████████████████████████████████████████████████▌                     | 31/42 [18:28<11:36, 63.31s/it]"
     ]
    },
    {
     "name": "stdout",
     "output_type": "stream",
     "text": [
      "QuantileRegressor model failed to execute\n",
      "Solver interior-point is not anymore available in SciPy >= 1.11.0.\n"
     ]
    },
    {
     "name": "stderr",
     "output_type": "stream",
     "text": [
      " 98%|████████████████████████████████████████████████████████████████████████████████  | 41/42 [33:18<01:27, 87.01s/it]"
     ]
    },
    {
     "name": "stdout",
     "output_type": "stream",
     "text": [
      "[LightGBM] [Warning] Auto-choosing row-wise multi-threading, the overhead of testing was 0.006457 seconds.\n",
      "You can set `force_row_wise=true` to remove the overhead.\n",
      "And if memory is not enough, you can set `force_col_wise=true`.\n",
      "[LightGBM] [Info] Total Bins 348\n",
      "[LightGBM] [Info] Number of data points in the train set: 102712, number of used features: 14\n",
      "[LightGBM] [Info] Start training from score 165.788184\n"
     ]
    },
    {
     "name": "stderr",
     "output_type": "stream",
     "text": [
      "100%|██████████████████████████████████████████████████████████████████████████████████| 42/42 [33:19<00:00, 47.61s/it]"
     ]
    },
    {
     "name": "stdout",
     "output_type": "stream",
     "text": [
      "(                               Adjusted R-Squared  R-Squared   RMSE  \\\n",
      "Model                                                                 \n",
      "XGBRegressor                                 0.99       0.99  15.83   \n",
      "RandomForestRegressor                        0.99       0.99  16.42   \n",
      "LGBMRegressor                                0.99       0.99  17.23   \n",
      "ExtraTreesRegressor                          0.99       0.99  17.28   \n",
      "HistGradientBoostingRegressor                0.99       0.99  17.38   \n",
      "BaggingRegressor                             0.99       0.99  17.42   \n",
      "DecisionTreeRegressor                        0.98       0.98  22.52   \n",
      "ExtraTreeRegressor                           0.98       0.98  23.26   \n",
      "MLPRegressor                                 0.95       0.95  42.17   \n",
      "GradientBoostingRegressor                    0.95       0.95  42.56   \n",
      "KNeighborsRegressor                          0.91       0.91  56.43   \n",
      "AdaBoostRegressor                            0.66       0.66 106.57   \n",
      "NuSVR                                        0.45       0.45 135.74   \n",
      "SVR                                          0.45       0.45 136.08   \n",
      "PoissonRegressor                             0.44       0.44 136.89   \n",
      "LassoLarsCV                                  0.34       0.34 148.71   \n",
      "LassoLarsIC                                  0.34       0.34 148.71   \n",
      "Lars                                         0.34       0.34 148.71   \n",
      "LarsCV                                       0.34       0.34 148.71   \n",
      "TransformedTargetRegressor                   0.34       0.34 148.71   \n",
      "LinearRegression                             0.34       0.34 148.71   \n",
      "RidgeCV                                      0.34       0.34 148.74   \n",
      "Ridge                                        0.34       0.34 148.84   \n",
      "BayesianRidge                                0.34       0.34 148.87   \n",
      "LassoCV                                      0.34       0.34 148.87   \n",
      "LassoLars                                    0.34       0.34 148.88   \n",
      "Lasso                                        0.34       0.34 148.88   \n",
      "OrthogonalMatchingPursuitCV                  0.34       0.34 148.94   \n",
      "SGDRegressor                                 0.34       0.34 148.97   \n",
      "ElasticNetCV                                 0.34       0.34 149.19   \n",
      "OrthogonalMatchingPursuit                    0.31       0.31 152.34   \n",
      "ElasticNet                                   0.30       0.30 153.14   \n",
      "HuberRegressor                               0.28       0.28 154.96   \n",
      "TweedieRegressor                             0.26       0.26 158.09   \n",
      "GammaRegressor                               0.25       0.25 159.07   \n",
      "PassiveAggressiveRegressor                   0.23       0.23 160.65   \n",
      "LinearSVR                                    0.22       0.23 161.25   \n",
      "DummyRegressor                              -0.00      -0.00 183.20   \n",
      "RANSACRegressor                             -0.49      -0.49 223.69   \n",
      "\n",
      "                               Time Taken  \n",
      "Model                                      \n",
      "XGBRegressor                         6.12  \n",
      "RandomForestRegressor               87.04  \n",
      "LGBMRegressor                        0.98  \n",
      "ExtraTreesRegressor                 80.18  \n",
      "HistGradientBoostingRegressor        1.94  \n",
      "BaggingRegressor                    10.82  \n",
      "DecisionTreeRegressor                1.25  \n",
      "ExtraTreeRegressor                   0.62  \n",
      "MLPRegressor                       155.11  \n",
      "GradientBoostingRegressor           17.85  \n",
      "KNeighborsRegressor                 56.07  \n",
      "AdaBoostRegressor                    9.23  \n",
      "NuSVR                              767.97  \n",
      "SVR                                795.33  \n",
      "PoissonRegressor                     0.16  \n",
      "LassoLarsCV                          0.56  \n",
      "LassoLarsIC                          0.18  \n",
      "Lars                                 0.17  \n",
      "LarsCV                               0.43  \n",
      "TransformedTargetRegressor           0.28  \n",
      "LinearRegression                     0.14  \n",
      "RidgeCV                              0.25  \n",
      "Ridge                                0.11  \n",
      "BayesianRidge                        0.20  \n",
      "LassoCV                              0.87  \n",
      "LassoLars                            0.13  \n",
      "Lasso                                0.16  \n",
      "OrthogonalMatchingPursuitCV          0.33  \n",
      "SGDRegressor                         0.50  \n",
      "ElasticNetCV                         1.00  \n",
      "OrthogonalMatchingPursuit            0.14  \n",
      "ElasticNet                           0.13  \n",
      "HuberRegressor                       0.89  \n",
      "TweedieRegressor                     0.14  \n",
      "GammaRegressor                       0.39  \n",
      "PassiveAggressiveRegressor           0.33  \n",
      "LinearSVR                            0.49  \n",
      "DummyRegressor                       0.09  \n",
      "RANSACRegressor                      0.57  ,                                Adjusted R-Squared  R-Squared   RMSE  \\\n",
      "Model                                                                 \n",
      "XGBRegressor                                 0.99       0.99  15.83   \n",
      "RandomForestRegressor                        0.99       0.99  16.42   \n",
      "LGBMRegressor                                0.99       0.99  17.23   \n",
      "ExtraTreesRegressor                          0.99       0.99  17.28   \n",
      "HistGradientBoostingRegressor                0.99       0.99  17.38   \n",
      "BaggingRegressor                             0.99       0.99  17.42   \n",
      "DecisionTreeRegressor                        0.98       0.98  22.52   \n",
      "ExtraTreeRegressor                           0.98       0.98  23.26   \n",
      "MLPRegressor                                 0.95       0.95  42.17   \n",
      "GradientBoostingRegressor                    0.95       0.95  42.56   \n",
      "KNeighborsRegressor                          0.91       0.91  56.43   \n",
      "AdaBoostRegressor                            0.66       0.66 106.57   \n",
      "NuSVR                                        0.45       0.45 135.74   \n",
      "SVR                                          0.45       0.45 136.08   \n",
      "PoissonRegressor                             0.44       0.44 136.89   \n",
      "LassoLarsCV                                  0.34       0.34 148.71   \n",
      "LassoLarsIC                                  0.34       0.34 148.71   \n",
      "Lars                                         0.34       0.34 148.71   \n",
      "LarsCV                                       0.34       0.34 148.71   \n",
      "TransformedTargetRegressor                   0.34       0.34 148.71   \n",
      "LinearRegression                             0.34       0.34 148.71   \n",
      "RidgeCV                                      0.34       0.34 148.74   \n",
      "Ridge                                        0.34       0.34 148.84   \n",
      "BayesianRidge                                0.34       0.34 148.87   \n",
      "LassoCV                                      0.34       0.34 148.87   \n",
      "LassoLars                                    0.34       0.34 148.88   \n",
      "Lasso                                        0.34       0.34 148.88   \n",
      "OrthogonalMatchingPursuitCV                  0.34       0.34 148.94   \n",
      "SGDRegressor                                 0.34       0.34 148.97   \n",
      "ElasticNetCV                                 0.34       0.34 149.19   \n",
      "OrthogonalMatchingPursuit                    0.31       0.31 152.34   \n",
      "ElasticNet                                   0.30       0.30 153.14   \n",
      "HuberRegressor                               0.28       0.28 154.96   \n",
      "TweedieRegressor                             0.26       0.26 158.09   \n",
      "GammaRegressor                               0.25       0.25 159.07   \n",
      "PassiveAggressiveRegressor                   0.23       0.23 160.65   \n",
      "LinearSVR                                    0.22       0.23 161.25   \n",
      "DummyRegressor                              -0.00      -0.00 183.20   \n",
      "RANSACRegressor                             -0.49      -0.49 223.69   \n",
      "\n",
      "                               Time Taken  \n",
      "Model                                      \n",
      "XGBRegressor                         6.12  \n",
      "RandomForestRegressor               87.04  \n",
      "LGBMRegressor                        0.98  \n",
      "ExtraTreesRegressor                 80.18  \n",
      "HistGradientBoostingRegressor        1.94  \n",
      "BaggingRegressor                    10.82  \n",
      "DecisionTreeRegressor                1.25  \n",
      "ExtraTreeRegressor                   0.62  \n",
      "MLPRegressor                       155.11  \n",
      "GradientBoostingRegressor           17.85  \n",
      "KNeighborsRegressor                 56.07  \n",
      "AdaBoostRegressor                    9.23  \n",
      "NuSVR                              767.97  \n",
      "SVR                                795.33  \n",
      "PoissonRegressor                     0.16  \n",
      "LassoLarsCV                          0.56  \n",
      "LassoLarsIC                          0.18  \n",
      "Lars                                 0.17  \n",
      "LarsCV                               0.43  \n",
      "TransformedTargetRegressor           0.28  \n",
      "LinearRegression                     0.14  \n",
      "RidgeCV                              0.25  \n",
      "Ridge                                0.11  \n",
      "BayesianRidge                        0.20  \n",
      "LassoCV                              0.87  \n",
      "LassoLars                            0.13  \n",
      "Lasso                                0.16  \n",
      "OrthogonalMatchingPursuitCV          0.33  \n",
      "SGDRegressor                         0.50  \n",
      "ElasticNetCV                         1.00  \n",
      "OrthogonalMatchingPursuit            0.14  \n",
      "ElasticNet                           0.13  \n",
      "HuberRegressor                       0.89  \n",
      "TweedieRegressor                     0.14  \n",
      "GammaRegressor                       0.39  \n",
      "PassiveAggressiveRegressor           0.33  \n",
      "LinearSVR                            0.49  \n",
      "DummyRegressor                       0.09  \n",
      "RANSACRegressor                      0.57  )\n"
     ]
    },
    {
     "name": "stderr",
     "output_type": "stream",
     "text": [
      "\n"
     ]
    }
   ],
   "source": [
    "#check how various models perform on the set\n",
    "\n",
    "from lazypredict.Supervised import LazyRegressor\n",
    "\n",
    "reg = LazyRegressor(verbose=0, ignore_warnings=False, custom_metric=None)\n",
    "models_pred = reg.fit(X_train, X_test, y_train, y_test)\n",
    "print(models_pred)"
   ]
  },
  {
   "cell_type": "code",
   "execution_count": null,
   "id": "7386da14-91a9-411d-9051-65cb53090bc6",
   "metadata": {},
   "outputs": [],
   "source": [
    "from xgboost import XGBRegressor\n",
    "\n",
    "xgbreg = XGBRegressor()\n",
    "\n",
    "xgbreg.fit(X_train, y_train)\n",
    "\n",
    "y_pred = xgbreg.predict(test_df)"
   ]
  },
  {
   "cell_type": "code",
   "execution_count": null,
   "id": "c4e8478d-a80c-43cd-9cc2-a21e12ee0969",
   "metadata": {},
   "outputs": [],
   "source": []
  }
 ],
 "metadata": {
  "kernelspec": {
   "display_name": "Python 3 (ipykernel)",
   "language": "python",
   "name": "python3"
  },
  "language_info": {
   "codemirror_mode": {
    "name": "ipython",
    "version": 3
   },
   "file_extension": ".py",
   "mimetype": "text/x-python",
   "name": "python",
   "nbconvert_exporter": "python",
   "pygments_lexer": "ipython3",
   "version": "3.11.0"
  }
 },
 "nbformat": 4,
 "nbformat_minor": 5
}
